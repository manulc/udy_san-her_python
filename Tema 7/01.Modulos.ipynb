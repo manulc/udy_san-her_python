{
 "cells": [
  {
   "cell_type": "markdown",
   "metadata": {},
   "source": [
    "# Módulos"
   ]
  },
  {
   "cell_type": "markdown",
   "metadata": {},
   "source": [
    "### 1.  ¿Qué es la programación modular?"
   ]
  },
  {
   "cell_type": "markdown",
   "metadata": {},
   "source": [
    "La programación modular se refiere al proceso de dividir una tarea de programación grande y difícil de manejar en subtareas o módulos separados, más pequeños y manejables. Los módulos individuales se irán uniendo posteriormente para crear un programa más grande.\n",
    "\n",
    "La modularización del código en una aplicación grande tiene varias ventajas:\n",
    "\n",
    "* **Simplicidad**: En lugar de centrarse en todo el problema, un módulo suele centrarse en una parte relativamente pequeña del problema. Si trabajas en un solo módulo, tendrás un dominio del problema más pequeño en el que centrarte. Esto hace que el desarrollo sea más fácil y menos propenso a errores.\n",
    "\n",
    "* **Mantenimiento**: Los módulos se diseñan normalmente de manera que imponen límites lógicos entre los diferentes dominios del problema. Si los módulos se escriben de forma que se minimice la interdependencia, se reduce la probabilidad de que las modificaciones en un solo módulo tengan un impacto en otras partes del programa.\n",
    "\n",
    "* **Reutilización**: La funcionalidad definida en un solo módulo puede ser fácilmente reutilizada (a través de una interfaz bien definida) por otras partes de la aplicación. Esto elimina la necesidad de duplicar el código.\n",
    "\n",
    "* **Alcance**: Los módulos suelen definen un namespace (namespace global) separado, lo que ayuda a evitar colisiones entre nombres en diferentes áreas de un programa.\n",
    "\n",
    "**Las funciones, las clases, los módulos y los paquetes son construcciones de Python que promueven la modularización del código.**"
   ]
  },
  {
   "cell_type": "markdown",
   "metadata": {},
   "source": [
    "### 2. ¿Qué es un módulo?"
   ]
  },
  {
   "cell_type": "markdown",
   "metadata": {},
   "source": [
    "Hay tres formas diferentes de definir un módulo en Python:\n",
    "\n",
    "* Un módulo puede estar escrito en Python.\n",
    "* Un módulo puede estar escrito en C y cargado dinámicamente en tiempo de ejecución.\n",
    "* Un módulo puede estar incorporado por defecto en el intérprete.\n",
    "\n",
    "En los tres casos se accede al contenido de un módulo de la misma manera: con la sentencia `import`.\n",
    "\n",
    "El tipo de módulo más importante y utilizado un 99% de las veces es el escrito en Python, que será en el que nos centraremos en este tema.\n",
    "\n",
    "Un módulo escrito en Python no es más que un archivo que contiene código en Python y una extensión `.py`. Esto es todo. No se requiere ningún tipo de sintaxis especial para definirlos."
   ]
  },
  {
   "cell_type": "code",
   "execution_count": null,
   "metadata": {},
   "outputs": [],
   "source": [
    "# Este código vamos a ejecutarlo en PyCharm\n",
    "\n",
    "cadena_texto = \"Hola mundo\"\n",
    "lista = [\"azul\", \"verde\", \"rojo\"]\n",
    "\n",
    "def funcion(arg):\n",
    "    print(arg)\n",
    "    \n",
    "class Coche:\n",
    "    pass"
   ]
  },
  {
   "cell_type": "code",
   "execution_count": null,
   "metadata": {},
   "outputs": [],
   "source": [
    ">>> import modulo\n",
    ">>> print(modulo.cadena_texto)\n",
    ">>> print(modulo.lista)\n",
    ">>> modulo.funcion(\"Hola mundo\")\n",
    ">>> bmw = modulo.Coche()"
   ]
  },
  {
   "cell_type": "markdown",
   "metadata": {},
   "source": [
    "Cuando el intérprete ejecuta la sentencia `import`, busca el `mimodulo.py` en una lista de directorios que obtiene a partir de las siguientes fuentes:\n",
    "\n",
    "* El directorio desde el que se ejecutó el script o el directorio actual si el intérprete se está ejecutando de forma interactiva\n",
    "* La lista de directorios contenida en la variable de entorno `PYTHONPATH`, si está configurada.\n",
    "* Una lista de directorios dependiente de la instalación configurada en el momento de instalar Python\n",
    "\n",
    "La ruta de búsqueda resultante es accesible en la variable de Python `sys.path`, que se obtiene de un módulo llamado sys:"
   ]
  },
  {
   "cell_type": "code",
   "execution_count": null,
   "metadata": {},
   "outputs": [],
   "source": [
    "import sys"
   ]
  },
  {
   "cell_type": "code",
   "execution_count": null,
   "metadata": {},
   "outputs": [],
   "source": [
    "sys.path"
   ]
  },
  {
   "cell_type": "markdown",
   "metadata": {},
   "source": [
    "Por lo tanto, para asegurarnos de que el módulo es encontrado, se requiere que hagamos alguna de las siguientes acciones:\n",
    "\n",
    "* **Guardar el `módulo.py` en el directorio donde se encuentra el script o en el directorio actual si estamos utilizando el interprete interactivo**\n",
    "* Modificar la variable de entorno `PYTHONPATH` para que contenga el directorio donde se encuentra el módulo, o bien, guardar el módulo en uno de los directorios ya contenidos en esta variable\n",
    "* Guardar el módulo en uno de los directorios dependientes de la instalación, a los que puede o no tener acceso de escritura, dependiendo del sistema operativo"
   ]
  },
  {
   "cell_type": "markdown",
   "metadata": {},
   "source": [
    "### 3. Sentencia `import`"
   ]
  },
  {
   "cell_type": "markdown",
   "metadata": {},
   "source": [
    "La sentencia `import` nos permite incluir un módulo dentro de nuestro programa actual y utilizar las estructuras que esten definidas en él.\n",
    "\n",
    "La manera más sencilla de utilizar la sentencia `import` es la que se mostraba en el apartado anterior:\n",
    "```\n",
    "import <nombre_modulo>\n",
    "```\n",
    "Debemos tener en cuenta que utilizando esta sintaxis el contenido del módulo no es directamente accesible por nuestro programa. Esta sentencia incorpora el nombre del módulo en el namespace global del programa que lo esta importando, pero no incorpora el namespace del módulo dentro del actual.\n",
    "\n",
    "Por esta razón, los objetos del módulo sólo son accesibles cuando se les antepone `<nombre_módulo>` al nombre del objeto."
   ]
  },
  {
   "cell_type": "code",
   "execution_count": null,
   "metadata": {},
   "outputs": [],
   "source": [
    ">>> import modulo\n",
    ">>> print(modulo.cadena_texto)"
   ]
  },
  {
   "cell_type": "markdown",
   "metadata": {},
   "source": [
    "Para evitar tener que invocar todos los objetos definidos en el módulo utilizando el nombre del módulo, Python nos proporciona una sintaxis alternativa:\n",
    "```\n",
    "from <nombre_modulo> import <nombre(s)>\n",
    "```\n",
    "Esto nos permite importar cualquier objeto del módulo en el namespace del programa actual."
   ]
  },
  {
   "cell_type": "code",
   "execution_count": null,
   "metadata": {},
   "outputs": [],
   "source": [
    ">>> from modulo import funcion\n",
    ">>> funcion()"
   ]
  },
  {
   "cell_type": "markdown",
   "metadata": {},
   "source": [
    "Podemos importar varios objetos separándolos entre `,`"
   ]
  },
  {
   "cell_type": "code",
   "execution_count": null,
   "metadata": {},
   "outputs": [],
   "source": [
    ">>> from modulo import funcion, Coche\n",
    ">>> funcion()\n",
    ">>> mercedes = Coche()"
   ]
  },
  {
   "cell_type": "markdown",
   "metadata": {},
   "source": [
    "Incluso podemos llegar a importar todos los objetos que se encuentre en el módulo utilizando el carácter `*`"
   ]
  },
  {
   "cell_type": "code",
   "execution_count": null,
   "metadata": {},
   "outputs": [],
   "source": [
    ">>> from modulo.py import *"
   ]
  },
  {
   "cell_type": "markdown",
   "metadata": {},
   "source": [
    "### 4. Alias"
   ]
  },
  {
   "cell_type": "markdown",
   "metadata": {},
   "source": [
    "Una de las cosas interesantes que nos proporciona Python a nivel sintáctico cuando importamos elementos de un módulo es asignarles un alias. De esta manera, los objetos se almacenan en el namespace del programa con otro diferente al original. Para ello podemos utilizar la siguiente sintaxis:\n",
    "```\n",
    "import <nombre_modulo> as <nombre_alias>\n",
    "\n",
    "from <nombre_modulo> import <nombre_objeto> as <nombre_alias>\n",
    "```"
   ]
  },
  {
   "cell_type": "code",
   "execution_count": null,
   "metadata": {},
   "outputs": [],
   "source": [
    ">>> import modulo as mimodulo\n",
    ">>> mimodulo.function()"
   ]
  },
  {
   "cell_type": "code",
   "execution_count": null,
   "metadata": {},
   "outputs": [],
   "source": [
    ">>> from modulo import function as func\n",
    ">>> func()"
   ]
  }
 ],
 "metadata": {
  "kernelspec": {
   "display_name": "Python 3 (ipykernel)",
   "language": "python",
   "name": "python3"
  },
  "language_info": {
   "codemirror_mode": {
    "name": "ipython",
    "version": 3
   },
   "file_extension": ".py",
   "mimetype": "text/x-python",
   "name": "python",
   "nbconvert_exporter": "python",
   "pygments_lexer": "ipython3",
   "version": "3.9.18"
  }
 },
 "nbformat": 4,
 "nbformat_minor": 4
}
