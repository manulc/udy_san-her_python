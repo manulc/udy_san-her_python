{
 "cells": [
  {
   "cell_type": "markdown",
   "metadata": {},
   "source": [
    "# Paquetes"
   ]
  },
  {
   "cell_type": "markdown",
   "metadata": {},
   "source": [
    "### 1. ¿Qué son los paquetes en Python?"
   ]
  },
  {
   "cell_type": "markdown",
   "metadata": {},
   "source": [
    "Los paquetes permiten estructurar jerárquicamente los módulos que hemos definido.\n",
    "\n",
    "Para inicializar un directorio dentro de nuestro sistema operativo y que Python lo reconozca como un paquete que contiene módulos que pueden importarse, debe crearse un fichero dentro del directorio con el nombre `__init__.py`.\n",
    "\n",
    "El código de `__init__.py` se invocará cuando el paquete o un módulo del paquete sea imortando en el programa. Esto puede utilizarse para establecer código de inicialización de los paquetes o de los módulos.\n",
    "\n",
    "Para importar un módulo que se encuentra en un paquete debe utilizarse la sintaxis:\n",
    "```\n",
    "import <nombre_paquete>.<nombre_modulo>\n",
    "\n",
    "from <nombre_paquete>.<nombre_modulo> import <nombre(s)>\n",
    "```"
   ]
  },
  {
   "cell_type": "markdown",
   "metadata": {},
   "source": [
    "### 2. Importando todos los módulos de un paquete"
   ]
  },
  {
   "cell_type": "markdown",
   "metadata": {},
   "source": [
    "Podríamos pensar que para importar todos los módulos de un paquete podríamos utilizar la sintaxis:\n",
    "```\n",
    "from <nombre_paquete> import *\n",
    "```\n",
    "Sin embargo, ¿qué es lo que sucede?\n",
    "\n",
    "Python sigue la siguiente convención: si el archivo `__init__.py` en el directorio del paquete contiene una lista llamada `__all__`, se toma como una lista de módulos que deben ser importados cuando se encuentra la sentencia: \n",
    "```\n",
    "from <nombre_paquete> import *.\n",
    "```\n"
   ]
  },
  {
   "cell_type": "code",
   "execution_count": null,
   "metadata": {},
   "outputs": [],
   "source": [
    "# Dentro del fichero __init__.py del modulo\n",
    "__all__ = [\n",
    "    'mimodulo'\n",
    "]"
   ]
  },
  {
   "cell_type": "markdown",
   "metadata": {},
   "source": [
    "### 3. Subpaquetes"
   ]
  },
  {
   "cell_type": "markdown",
   "metadata": {},
   "source": [
    "Los paquetes pueden contener un número arbitrario de paquetes anidados. La sintaxis que se utiliza para acceder a los modulos que se encuentran en los paquetes anidados es similar a la anterior pero añadiendo algunos `.` adicionales:\n",
    "```\n",
    "from <nombre_paquete>.<nombre_subpaquete>.<nombre_modulo> import <nombre(s)>\n",
    "```\n",
    "\n"
   ]
  }
 ],
 "metadata": {
  "kernelspec": {
   "display_name": "Python 3 (ipykernel)",
   "language": "python",
   "name": "python3"
  },
  "language_info": {
   "codemirror_mode": {
    "name": "ipython",
    "version": 3
   },
   "file_extension": ".py",
   "mimetype": "text/x-python",
   "name": "python",
   "nbconvert_exporter": "python",
   "pygments_lexer": "ipython3",
   "version": "3.9.18"
  }
 },
 "nbformat": 4,
 "nbformat_minor": 4
}
