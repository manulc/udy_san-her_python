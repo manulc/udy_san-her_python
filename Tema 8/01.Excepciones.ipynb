{
 "cells": [
  {
   "cell_type": "markdown",
   "id": "7f13ed46",
   "metadata": {},
   "source": [
    "# Excepciones en Python 3"
   ]
  },
  {
   "cell_type": "markdown",
   "id": "7e1f729b",
   "metadata": {},
   "source": [
    "### 1. ¿Qué son las excepciones?"
   ]
  },
  {
   "cell_type": "markdown",
   "id": "5ffbb0d6",
   "metadata": {},
   "source": [
    "Python utiliza un tipo de objeto especial denominado excepción para gestionar los errores que surgen durante la ejecución de un programa. \n",
    "\n",
    "Cada vez que ocurre un error que hace que Python no sepa qué hacer a continuación, crea un objeto de excepción. Si se escribe código que maneja la excepción, el programa continuará ejecutándose. Por el contrario, si no se maneja la excepción, el programa se detendrá y mostrará un pequeño resumen de la excepción que se ha producido.\n",
    "\n",
    "Las excepciones se pueden manejan a través de las sentencias `try` y `except`."
   ]
  },
  {
   "cell_type": "code",
   "execution_count": 1,
   "id": "87882761",
   "metadata": {},
   "outputs": [
    {
     "ename": "NameError",
     "evalue": "name 'var' is not defined",
     "output_type": "error",
     "traceback": [
      "\u001b[1;31m---------------------------------------------------------------------------\u001b[0m",
      "\u001b[1;31mNameError\u001b[0m                                 Traceback (most recent call last)",
      "Cell \u001b[1;32mIn[1], line 1\u001b[0m\n\u001b[1;32m----> 1\u001b[0m \u001b[38;5;28mprint\u001b[39m(\u001b[43mvar\u001b[49m)\n",
      "\u001b[1;31mNameError\u001b[0m: name 'var' is not defined"
     ]
    }
   ],
   "source": [
    "print(var)"
   ]
  },
  {
   "cell_type": "markdown",
   "id": "7675228b",
   "metadata": {},
   "source": [
    "### 2. Errores de sintaxis vs Excepciones"
   ]
  },
  {
   "cell_type": "markdown",
   "id": "75dfc852",
   "metadata": {},
   "source": [
    "A pesar de que en muchas ocasiones estos dos términos se utilizan de manera indistinta cuando hablamos de Python, debemos tener cuidado porque son cosas diferentes.\n",
    "\n",
    "Los **errores de sintaxis** se producen cuando escribimos una sentencia de código en Python que no es sintácticamente válida. El intérprete de Python indica estos error con el término `SyntaxError` y nos señala con el carácter `^` donde se encuentra el error."
   ]
  },
  {
   "cell_type": "code",
   "execution_count": 2,
   "id": "343ee15c",
   "metadata": {},
   "outputs": [
    {
     "ename": "SyntaxError",
     "evalue": "EOL while scanning string literal (52365716.py, line 1)",
     "output_type": "error",
     "traceback": [
      "\u001b[1;36m  Cell \u001b[1;32mIn[2], line 1\u001b[1;36m\u001b[0m\n\u001b[1;33m    print(\"Hola mundo)\u001b[0m\n\u001b[1;37m                      ^\u001b[0m\n\u001b[1;31mSyntaxError\u001b[0m\u001b[1;31m:\u001b[0m EOL while scanning string literal\n"
     ]
    }
   ],
   "source": [
    "print(\"Hola mundo)"
   ]
  },
  {
   "cell_type": "markdown",
   "id": "bfe1cd52",
   "metadata": {},
   "source": [
    "**Este tipo de errores no se pueden controlar y no se corresponden con excepciones dentro del lenguaje**"
   ]
  },
  {
   "cell_type": "markdown",
   "id": "a0db112f",
   "metadata": {},
   "source": [
    "Por otro lado, las **excepciones** se corresponden con errores que se producen en sentencias de código en Python que son sintácticamente correctas. Esto tipo de errores no son fatales para el programa y pueden ser gestionados o ignorados."
   ]
  },
  {
   "cell_type": "code",
   "execution_count": 3,
   "id": "919791bb",
   "metadata": {},
   "outputs": [
    {
     "ename": "NameError",
     "evalue": "name 'var' is not defined",
     "output_type": "error",
     "traceback": [
      "\u001b[1;31m---------------------------------------------------------------------------\u001b[0m",
      "\u001b[1;31mNameError\u001b[0m                                 Traceback (most recent call last)",
      "Cell \u001b[1;32mIn[3], line 1\u001b[0m\n\u001b[1;32m----> 1\u001b[0m \u001b[38;5;28mprint\u001b[39m(\u001b[43mvar\u001b[49m)\n",
      "\u001b[1;31mNameError\u001b[0m: name 'var' is not defined"
     ]
    }
   ],
   "source": [
    "print(var)"
   ]
  },
  {
   "cell_type": "code",
   "execution_count": 4,
   "id": "dd0c99ca",
   "metadata": {},
   "outputs": [
    {
     "ename": "ZeroDivisionError",
     "evalue": "division by zero",
     "output_type": "error",
     "traceback": [
      "\u001b[1;31m---------------------------------------------------------------------------\u001b[0m",
      "\u001b[1;31mZeroDivisionError\u001b[0m                         Traceback (most recent call last)",
      "Cell \u001b[1;32mIn[4], line 1\u001b[0m\n\u001b[1;32m----> 1\u001b[0m \u001b[38;5;241;43m50\u001b[39;49m\u001b[43m \u001b[49m\u001b[38;5;241;43m/\u001b[39;49m\u001b[43m \u001b[49m\u001b[38;5;241;43m0\u001b[39;49m\n",
      "\u001b[1;31mZeroDivisionError\u001b[0m: division by zero"
     ]
    }
   ],
   "source": [
    "50 / 0"
   ]
  },
  {
   "cell_type": "code",
   "execution_count": 5,
   "id": "afaa0c03",
   "metadata": {},
   "outputs": [
    {
     "ename": "TypeError",
     "evalue": "can only concatenate str (not \"int\") to str",
     "output_type": "error",
     "traceback": [
      "\u001b[1;31m---------------------------------------------------------------------------\u001b[0m",
      "\u001b[1;31mTypeError\u001b[0m                                 Traceback (most recent call last)",
      "Cell \u001b[1;32mIn[5], line 1\u001b[0m\n\u001b[1;32m----> 1\u001b[0m \u001b[38;5;124;43m'\u001b[39;49m\u001b[38;5;124;43m2\u001b[39;49m\u001b[38;5;124;43m'\u001b[39;49m\u001b[43m \u001b[49m\u001b[38;5;241;43m+\u001b[39;49m\u001b[43m \u001b[49m\u001b[38;5;241;43m2\u001b[39;49m\n",
      "\u001b[1;31mTypeError\u001b[0m: can only concatenate str (not \"int\") to str"
     ]
    }
   ],
   "source": [
    "'2' + 2"
   ]
  },
  {
   "cell_type": "markdown",
   "id": "afa6c903",
   "metadata": {},
   "source": [
    "### 3. Gestión de excepciones: Sentencias `try` y `except`"
   ]
  },
  {
   "cell_type": "markdown",
   "id": "0f8f2346",
   "metadata": {},
   "source": [
    "Las sentencias `try` y `except` en Python pueden utilizarse para capturar y manejar excepciones. Python ejecuta el código que sigue a la sentencia `try` como una parte \"normal\" del programa. El código que sigue a la sentencia `except` se ejecutará si se produce cualquier excepción en la cláusula `try` precedente.\n",
    "\n",
    "La sintaxis que se utiliza para definir este tipo de comportamiento es la siguiente:\n",
    "```\n",
    "try:\n",
    "    <sentencia(s)>\n",
    "except <excepción>:\n",
    "    <sentencias(s) si excepción>\n",
    "```"
   ]
  },
  {
   "cell_type": "code",
   "execution_count": 6,
   "id": "a3a2503b",
   "metadata": {},
   "outputs": [
    {
     "ename": "NameError",
     "evalue": "name 'var' is not defined",
     "output_type": "error",
     "traceback": [
      "\u001b[1;31m---------------------------------------------------------------------------\u001b[0m",
      "\u001b[1;31mNameError\u001b[0m                                 Traceback (most recent call last)",
      "Cell \u001b[1;32mIn[6], line 1\u001b[0m\n\u001b[1;32m----> 1\u001b[0m \u001b[38;5;28mprint\u001b[39m(\u001b[43mvar\u001b[49m)\n",
      "\u001b[1;31mNameError\u001b[0m: name 'var' is not defined"
     ]
    }
   ],
   "source": [
    "print(var)"
   ]
  },
  {
   "cell_type": "code",
   "execution_count": 9,
   "id": "f5ad976d",
   "metadata": {},
   "outputs": [
    {
     "name": "stdout",
     "output_type": "stream",
     "text": [
      "Hola mundo\n"
     ]
    }
   ],
   "source": [
    "try:\n",
    "    print(var)\n",
    "except NameError:\n",
    "    var = \"Hola mundo\""
   ]
  },
  {
   "cell_type": "code",
   "execution_count": 8,
   "id": "eb846439",
   "metadata": {},
   "outputs": [
    {
     "name": "stdout",
     "output_type": "stream",
     "text": [
      "Hola mundo\n"
     ]
    }
   ],
   "source": [
    "print(var)"
   ]
  },
  {
   "cell_type": "markdown",
   "id": "f50bceae",
   "metadata": {},
   "source": [
    "Debemos tener en cuenta que el las sentencias de código que se encuentren en el cuerpo de la sentencia `try` y a continuación de la sentencia que emite la excepción, no se ejecutarán"
   ]
  },
  {
   "cell_type": "code",
   "execution_count": 10,
   "id": "10357ff0",
   "metadata": {},
   "outputs": [
    {
     "name": "stdout",
     "output_type": "stream",
     "text": [
      "Sentencias de código antes del try\n",
      "Sentencia antes de la excepción\n",
      "No se puede sumar un número entero y un string\n",
      "Sentencias de código después del except\n"
     ]
    }
   ],
   "source": [
    "print(\"Sentencias de código antes del try\")\n",
    "try:\n",
    "    print(\"Sentencia antes de la excepción\")\n",
    "    10 + \"3\"\n",
    "    print(\"Sentencia después de la excepción\")\n",
    "except TypeError:\n",
    "    print(\"No se puede sumar un número entero y un string\")\n",
    "print(\"Sentencias de código después del except\")"
   ]
  },
  {
   "cell_type": "markdown",
   "id": "233f5ad5",
   "metadata": {},
   "source": [
    "También podemos utilizar la sentencia `except` sin indicarle el nombre de ninguna excepción, en estos casos capturará todas las excepciones que se produzcan en el código que se encuentra en el cuerpo de la sentencia `try`"
   ]
  },
  {
   "cell_type": "code",
   "execution_count": 11,
   "id": "9d8f715f",
   "metadata": {},
   "outputs": [
    {
     "name": "stdout",
     "output_type": "stream",
     "text": [
      "No se puede sumar un número entero y un string\n"
     ]
    }
   ],
   "source": [
    "try:\n",
    "    10 + \"3\"\n",
    "except:\n",
    "    print(\"No se puede sumar un número entero y un string\")"
   ]
  },
  {
   "cell_type": "markdown",
   "id": "3bb9922f",
   "metadata": {},
   "source": [
    "Adicionalmente a la sintaxis anterior, podemos capturar varias excepciones de manera simultánea utilizando varias cláusulas `except`"
   ]
  },
  {
   "cell_type": "code",
   "execution_count": 13,
   "id": "214492a0",
   "metadata": {},
   "outputs": [
    {
     "name": "stdout",
     "output_type": "stream",
     "text": [
      "Gestionando excepción ZeroDivisionError\n"
     ]
    }
   ],
   "source": [
    "try:\n",
    "    #print(variable)\n",
    "    50 / 0\n",
    "except NameError:\n",
    "    print(\"Gestionando excepción NameError\")\n",
    "except TypeError:\n",
    "    print(\"Gestionando excepción TypeError\")\n",
    "except ZeroDivisionError:\n",
    "    print(\"Gestionando excepción ZeroDivisionError\")"
   ]
  },
  {
   "cell_type": "markdown",
   "id": "d01f97c7",
   "metadata": {},
   "source": [
    "Por último, podemos asignar el objeto excepción capturado a una variable y utilizarlos para mostrar más información al respecto."
   ]
  },
  {
   "cell_type": "code",
   "execution_count": 14,
   "id": "16622317",
   "metadata": {},
   "outputs": [
    {
     "name": "stdout",
     "output_type": "stream",
     "text": [
      "Objeto de tipo <class 'NameError'>\n",
      "La excepción consiste en: name 'variable' is not defined\n"
     ]
    }
   ],
   "source": [
    "try:\n",
    "    print(variable)\n",
    "except NameError as error:\n",
    "    print(\"Objeto de tipo\", type(error))\n",
    "    print(\"La excepción consiste en:\", error)"
   ]
  },
  {
   "cell_type": "markdown",
   "id": "6e498267",
   "metadata": {},
   "source": [
    "### 4. Lanzando excepciones personalizadas"
   ]
  },
  {
   "cell_type": "markdown",
   "id": "9965e44d",
   "metadata": {},
   "source": [
    "Además de las sentencias anteriores que podemos utilizar para controlar excepciones, Python nos proporciona la sentencia `raise` con la que podemos emitir nuestras propias excepciones. Para ello, debemos utilizar la clase por defecto de Python `Exception`"
   ]
  },
  {
   "cell_type": "code",
   "execution_count": 1,
   "id": "6aef7189",
   "metadata": {},
   "outputs": [
    {
     "name": "stdout",
     "output_type": "stream",
     "text": [
      "Help on class Exception in module builtins:\n",
      "\n",
      "class Exception(BaseException)\n",
      " |  Common base class for all non-exit exceptions.\n",
      " |  \n",
      " |  Method resolution order:\n",
      " |      Exception\n",
      " |      BaseException\n",
      " |      object\n",
      " |  \n",
      " |  Built-in subclasses:\n",
      " |      ArithmeticError\n",
      " |      AssertionError\n",
      " |      AttributeError\n",
      " |      BufferError\n",
      " |      ... and 15 other subclasses\n",
      " |  \n",
      " |  Methods defined here:\n",
      " |  \n",
      " |  __init__(self, /, *args, **kwargs)\n",
      " |      Initialize self.  See help(type(self)) for accurate signature.\n",
      " |  \n",
      " |  ----------------------------------------------------------------------\n",
      " |  Static methods defined here:\n",
      " |  \n",
      " |  __new__(*args, **kwargs) from builtins.type\n",
      " |      Create and return a new object.  See help(type) for accurate signature.\n",
      " |  \n",
      " |  ----------------------------------------------------------------------\n",
      " |  Methods inherited from BaseException:\n",
      " |  \n",
      " |  __delattr__(self, name, /)\n",
      " |      Implement delattr(self, name).\n",
      " |  \n",
      " |  __getattribute__(self, name, /)\n",
      " |      Return getattr(self, name).\n",
      " |  \n",
      " |  __reduce__(...)\n",
      " |      Helper for pickle.\n",
      " |  \n",
      " |  __repr__(self, /)\n",
      " |      Return repr(self).\n",
      " |  \n",
      " |  __setattr__(self, name, value, /)\n",
      " |      Implement setattr(self, name, value).\n",
      " |  \n",
      " |  __setstate__(...)\n",
      " |  \n",
      " |  __str__(self, /)\n",
      " |      Return str(self).\n",
      " |  \n",
      " |  with_traceback(...)\n",
      " |      Exception.with_traceback(tb) --\n",
      " |      set self.__traceback__ to tb and return self.\n",
      " |  \n",
      " |  ----------------------------------------------------------------------\n",
      " |  Data descriptors inherited from BaseException:\n",
      " |  \n",
      " |  __cause__\n",
      " |      exception cause\n",
      " |  \n",
      " |  __context__\n",
      " |      exception context\n",
      " |  \n",
      " |  __dict__\n",
      " |  \n",
      " |  __suppress_context__\n",
      " |  \n",
      " |  __traceback__\n",
      " |  \n",
      " |  args\n",
      "\n"
     ]
    }
   ],
   "source": [
    "help(Exception)"
   ]
  },
  {
   "cell_type": "code",
   "execution_count": 3,
   "id": "1774fbbe",
   "metadata": {},
   "outputs": [
    {
     "ename": "Exception",
     "evalue": "El color amarillo no se encuentra en la lista de colores permitidos",
     "output_type": "error",
     "traceback": [
      "\u001b[1;31m---------------------------------------------------------------------------\u001b[0m",
      "\u001b[1;31mException\u001b[0m                                 Traceback (most recent call last)",
      "Cell \u001b[1;32mIn[3], line 4\u001b[0m\n\u001b[0;32m      2\u001b[0m color \u001b[38;5;241m=\u001b[39m \u001b[38;5;124m'\u001b[39m\u001b[38;5;124mamarillo\u001b[39m\u001b[38;5;124m'\u001b[39m\n\u001b[0;32m      3\u001b[0m \u001b[38;5;28;01mif\u001b[39;00m color \u001b[38;5;129;01mnot\u001b[39;00m \u001b[38;5;129;01min\u001b[39;00m colores_permitidos:\n\u001b[1;32m----> 4\u001b[0m     \u001b[38;5;28;01mraise\u001b[39;00m \u001b[38;5;167;01mException\u001b[39;00m(\u001b[38;5;124m\"\u001b[39m\u001b[38;5;124mEl color \u001b[39m\u001b[38;5;132;01m{}\u001b[39;00m\u001b[38;5;124m no se encuentra en la lista de colores permitidos\u001b[39m\u001b[38;5;124m\"\u001b[39m\u001b[38;5;241m.\u001b[39mformat(color))\n",
      "\u001b[1;31mException\u001b[0m: El color amarillo no se encuentra en la lista de colores permitidos"
     ]
    }
   ],
   "source": [
    "colores_permitidos = ('azul', 'verde', 'rojo')\n",
    "color = 'amarillo'\n",
    "if color not in colores_permitidos:\n",
    "    raise Exception(\"El color {} no se encuentra en la lista de colores permitidos\".format(color))"
   ]
  },
  {
   "cell_type": "code",
   "execution_count": 4,
   "id": "925538fb",
   "metadata": {},
   "outputs": [],
   "source": [
    "colores_permitidos = ('azul', 'verde', 'rojo')\n",
    "color = 'verde'\n",
    "if color not in colores_permitidos:\n",
    "    raise Exception(\"El color {} no se encuentra en la lista de colores permitidos\".format(color))"
   ]
  },
  {
   "cell_type": "markdown",
   "id": "dcb6699b",
   "metadata": {},
   "source": [
    "### 5. Excepción `AssertionError`"
   ]
  },
  {
   "cell_type": "markdown",
   "id": "1b819c64",
   "metadata": {},
   "source": [
    "Como complemento a todas las sentencias anteriores, Python nos proporciona una sentencia adicional que nos permite verificar en un punto determinado de nuestro programa que todo esta funcionando adecuadamente, esta sentencia es `assert`."
   ]
  },
  {
   "cell_type": "code",
   "execution_count": 6,
   "id": "bb12ce81",
   "metadata": {},
   "outputs": [
    {
     "name": "stdin",
     "output_type": "stream",
     "text": [
      "Introduce una contraseña de más d e8 dígitos:\n",
      " 123456789\n"
     ]
    }
   ],
   "source": [
    "passwd = input(\"Introduce una contraseña de más d 8 dígitos:\\n\")\n",
    "# Si no se cumple, lanza una excepción de tipo AssertionError con este mensaje de error\n",
    "assert len(passwd) > 8, \"La contraseña es menor a 8 dígitos\""
   ]
  },
  {
   "cell_type": "markdown",
   "id": "a071753c",
   "metadata": {},
   "source": [
    "### 6. Cláusula `else` en excepciones"
   ]
  },
  {
   "cell_type": "markdown",
   "id": "94a61ab1",
   "metadata": {},
   "source": [
    "Curiosamente, Python nos proporciona un mecanismo por el cual utilizando la sentencia `else`, se puede indicar a un programa que ejecute un determinado bloque de código sólo en ausencia de excepciones."
   ]
  },
  {
   "cell_type": "code",
   "execution_count": 11,
   "id": "36515e22",
   "metadata": {},
   "outputs": [
    {
     "name": "stdout",
     "output_type": "stream",
     "text": [
      "Hola mundo\n",
      "variable2 ya estaba definida con el valor: Hola mundo\n"
     ]
    }
   ],
   "source": [
    "try:\n",
    "    print(variable2)\n",
    "except NameError:\n",
    "    print(\"variable2 no estaba definida, se define con la cadena 'Hola mundo'\")\n",
    "    variable2 = \"Hola mundo\"\n",
    "else:\n",
    "    print(\"variable2 ya estaba definida con el valor:\", variable2)"
   ]
  },
  {
   "cell_type": "markdown",
   "id": "bcfb51ca",
   "metadata": {},
   "source": [
    "### 7. Sentencia `finally`"
   ]
  },
  {
   "cell_type": "markdown",
   "id": "49acd3c9",
   "metadata": {},
   "source": [
    "Python nos proporciona una última sentencia que podemos utilizar para realizar una \"limpieza\" después de la ejecución de nuestro código al gestionar una excepción. Esta sentencia se denomina `finally` y el código que se localice en su cuerpo, se ejcutará siempre, independientemente de si se produce o no la expcepción."
   ]
  },
  {
   "cell_type": "code",
   "execution_count": 15,
   "id": "297d25c6",
   "metadata": {},
   "outputs": [
    {
     "name": "stdout",
     "output_type": "stream",
     "text": [
      "variable3 no estaba definida, se define con la cadena 'Hola mundo'\n"
     ]
    }
   ],
   "source": [
    "try:\n",
    "    print(variable3)\n",
    "except NameError:\n",
    "    print(\"variable3 no estaba definida, se define con la cadena 'Hola mundo'\")\n",
    "    variable3 = \"Hola mundo\"\n",
    "else:\n",
    "    print(\"variable3 ya estaba definida con el valor:\", variable2)\n",
    "finally:\n",
    "    del variable3"
   ]
  }
 ],
 "metadata": {
  "kernelspec": {
   "display_name": "Python 3 (ipykernel)",
   "language": "python",
   "name": "python3"
  },
  "language_info": {
   "codemirror_mode": {
    "name": "ipython",
    "version": 3
   },
   "file_extension": ".py",
   "mimetype": "text/x-python",
   "name": "python",
   "nbconvert_exporter": "python",
   "pygments_lexer": "ipython3",
   "version": "3.9.18"
  }
 },
 "nbformat": 4,
 "nbformat_minor": 5
}
