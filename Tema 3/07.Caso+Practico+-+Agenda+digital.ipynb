{
 "cells": [
  {
   "cell_type": "markdown",
   "metadata": {},
   "source": [
    "# Caso Práctico: Implementando una agenda digital"
   ]
  },
  {
   "cell_type": "markdown",
   "metadata": {},
   "source": [
    "### Enunciado y contexto del ejercicio"
   ]
  },
  {
   "cell_type": "markdown",
   "metadata": {},
   "source": [
    "En este ejercicio práctico se propone la implementación de una agenda digital muy simple en la que puedas almacenar y consultar tus contactos.\n",
    "\n",
    "¡Completa todos los apartados que se muestran a continuación para conseguir implementar estas funciones!"
   ]
  },
  {
   "cell_type": "markdown",
   "metadata": {},
   "source": [
    "### 1. Implementa la agenda digital y los contactos"
   ]
  },
  {
   "cell_type": "markdown",
   "metadata": {},
   "source": [
    "Lo primero que debemos hacer para implementar nuestra agenda digital es seleccionar la estructura de datos que va a almacenar los contactos de la misma."
   ]
  },
  {
   "cell_type": "markdown",
   "metadata": {},
   "source": [
    "<div style=\"background-color:#D9EEFF;color:black;padding:2%;\">\n",
    "Crea un diccionario que represente la agenda digital. Dentro de ese diccionario, crea otro diccionario por cada uno de los contactos que quieras almacenar en ella. Los contactos deben tener, al menos, los siguientes atributos: Nombre, dirección, email y teléfono.\n",
    "</div>"
   ]
  },
  {
   "cell_type": "markdown",
   "metadata": {},
   "source": [
    "**Pista:** Utiliza algo característico de cada contacto como clave del primer diccionario, por ejemplo, su nombre completo."
   ]
  },
  {
   "cell_type": "code",
   "execution_count": 160,
   "metadata": {},
   "outputs": [],
   "source": [
    "agenda_digital = {\n",
    "    \"John Doe\": {\n",
    "        \"direccion\": \"Main Street, 123\",\n",
    "        \"email\": \"john.doe@email.com\",\n",
    "        \"telefono\": \"123123123\"\n",
    "    },\n",
    "    \"Marie Smith\": {\n",
    "        \"direccion\": \"Main Street, 11\",\n",
    "        \"email\": \"maire.smith@email.com\",\n",
    "        \"telefono\": \"456456456\"\n",
    "    }\n",
    "}"
   ]
  },
  {
   "cell_type": "code",
   "execution_count": 161,
   "metadata": {},
   "outputs": [
    {
     "data": {
      "text/plain": [
       "{'direccion': 'Main Street, 123',\n",
       " 'email': 'john.doe@email.com',\n",
       " 'telefono': '123123123'}"
      ]
     },
     "execution_count": 161,
     "metadata": {},
     "output_type": "execute_result"
    }
   ],
   "source": [
    "agenda_digital[\"John Doe\"]"
   ]
  },
  {
   "cell_type": "code",
   "execution_count": 162,
   "metadata": {},
   "outputs": [
    {
     "data": {
      "text/plain": [
       "{'direccion': 'Main Street, 11',\n",
       " 'email': 'maire.smith@email.com',\n",
       " 'telefono': '456456456'}"
      ]
     },
     "execution_count": 162,
     "metadata": {},
     "output_type": "execute_result"
    }
   ],
   "source": [
    "agenda_digital[\"Marie Smith\"]"
   ]
  },
  {
   "cell_type": "markdown",
   "metadata": {},
   "source": [
    "### 2. Guarda la agenda digital en un fichero en disco"
   ]
  },
  {
   "cell_type": "markdown",
   "metadata": {},
   "source": [
    "Una vez que hemos implementado nuestra agenda digital en Python, necesitamos establecer un mecanismo para almacenar esta información en disco. De esta manera, la información que almacenemos en la agenda no se perderá cuando finalice la ejecución del programa."
   ]
  },
  {
   "cell_type": "markdown",
   "metadata": {},
   "source": [
    "<div style=\"background-color:#D9EEFF;color:black;padding:2%;\">\n",
    "Implementa una función en Python que permita escribir en disco la agenda digital que has representado en el apartado anterior como un diccionario.\n",
    "</div>"
   ]
  },
  {
   "cell_type": "markdown",
   "metadata": {},
   "source": [
    "**Pista:** Entre las funciones por defecto que veíamos en secciones anteriores, existe una función `open()` que nos permite realizar operaciones de lectura y escritura de ficheros."
   ]
  },
  {
   "cell_type": "code",
   "execution_count": 163,
   "metadata": {},
   "outputs": [
    {
     "name": "stdout",
     "output_type": "stream",
     "text": [
      "Help on function open in module io:\n",
      "\n",
      "open(file, mode='r', buffering=-1, encoding=None, errors=None, newline=None, closefd=True, opener=None)\n",
      "    Open file and return a stream.  Raise OSError upon failure.\n",
      "    \n",
      "    file is either a text or byte string giving the name (and the path\n",
      "    if the file isn't in the current working directory) of the file to\n",
      "    be opened or an integer file descriptor of the file to be\n",
      "    wrapped. (If a file descriptor is given, it is closed when the\n",
      "    returned I/O object is closed, unless closefd is set to False.)\n",
      "    \n",
      "    mode is an optional string that specifies the mode in which the file\n",
      "    is opened. It defaults to 'r' which means open for reading in text\n",
      "    mode.  Other common values are 'w' for writing (truncating the file if\n",
      "    it already exists), 'x' for creating and writing to a new file, and\n",
      "    'a' for appending (which on some Unix systems, means that all writes\n",
      "    append to the end of the file regardless of the current seek position).\n",
      "    In text mode, if encoding is not specified the encoding used is platform\n",
      "    dependent: locale.getpreferredencoding(False) is called to get the\n",
      "    current locale encoding. (For reading and writing raw bytes use binary\n",
      "    mode and leave encoding unspecified.) The available modes are:\n",
      "    \n",
      "    ========= ===============================================================\n",
      "    Character Meaning\n",
      "    --------- ---------------------------------------------------------------\n",
      "    'r'       open for reading (default)\n",
      "    'w'       open for writing, truncating the file first\n",
      "    'x'       create a new file and open it for writing\n",
      "    'a'       open for writing, appending to the end of the file if it exists\n",
      "    'b'       binary mode\n",
      "    't'       text mode (default)\n",
      "    '+'       open a disk file for updating (reading and writing)\n",
      "    'U'       universal newline mode (deprecated)\n",
      "    ========= ===============================================================\n",
      "    \n",
      "    The default mode is 'rt' (open for reading text). For binary random\n",
      "    access, the mode 'w+b' opens and truncates the file to 0 bytes, while\n",
      "    'r+b' opens the file without truncation. The 'x' mode implies 'w' and\n",
      "    raises an `FileExistsError` if the file already exists.\n",
      "    \n",
      "    Python distinguishes between files opened in binary and text modes,\n",
      "    even when the underlying operating system doesn't. Files opened in\n",
      "    binary mode (appending 'b' to the mode argument) return contents as\n",
      "    bytes objects without any decoding. In text mode (the default, or when\n",
      "    't' is appended to the mode argument), the contents of the file are\n",
      "    returned as strings, the bytes having been first decoded using a\n",
      "    platform-dependent encoding or using the specified encoding if given.\n",
      "    \n",
      "    'U' mode is deprecated and will raise an exception in future versions\n",
      "    of Python.  It has no effect in Python 3.  Use newline to control\n",
      "    universal newlines mode.\n",
      "    \n",
      "    buffering is an optional integer used to set the buffering policy.\n",
      "    Pass 0 to switch buffering off (only allowed in binary mode), 1 to select\n",
      "    line buffering (only usable in text mode), and an integer > 1 to indicate\n",
      "    the size of a fixed-size chunk buffer.  When no buffering argument is\n",
      "    given, the default buffering policy works as follows:\n",
      "    \n",
      "    * Binary files are buffered in fixed-size chunks; the size of the buffer\n",
      "      is chosen using a heuristic trying to determine the underlying device's\n",
      "      \"block size\" and falling back on `io.DEFAULT_BUFFER_SIZE`.\n",
      "      On many systems, the buffer will typically be 4096 or 8192 bytes long.\n",
      "    \n",
      "    * \"Interactive\" text files (files for which isatty() returns True)\n",
      "      use line buffering.  Other text files use the policy described above\n",
      "      for binary files.\n",
      "    \n",
      "    encoding is the name of the encoding used to decode or encode the\n",
      "    file. This should only be used in text mode. The default encoding is\n",
      "    platform dependent, but any encoding supported by Python can be\n",
      "    passed.  See the codecs module for the list of supported encodings.\n",
      "    \n",
      "    errors is an optional string that specifies how encoding errors are to\n",
      "    be handled---this argument should not be used in binary mode. Pass\n",
      "    'strict' to raise a ValueError exception if there is an encoding error\n",
      "    (the default of None has the same effect), or pass 'ignore' to ignore\n",
      "    errors. (Note that ignoring encoding errors can lead to data loss.)\n",
      "    See the documentation for codecs.register or run 'help(codecs.Codec)'\n",
      "    for a list of the permitted encoding error strings.\n",
      "    \n",
      "    newline controls how universal newlines works (it only applies to text\n",
      "    mode). It can be None, '', '\\n', '\\r', and '\\r\\n'.  It works as\n",
      "    follows:\n",
      "    \n",
      "    * On input, if newline is None, universal newlines mode is\n",
      "      enabled. Lines in the input can end in '\\n', '\\r', or '\\r\\n', and\n",
      "      these are translated into '\\n' before being returned to the\n",
      "      caller. If it is '', universal newline mode is enabled, but line\n",
      "      endings are returned to the caller untranslated. If it has any of\n",
      "      the other legal values, input lines are only terminated by the given\n",
      "      string, and the line ending is returned to the caller untranslated.\n",
      "    \n",
      "    * On output, if newline is None, any '\\n' characters written are\n",
      "      translated to the system default line separator, os.linesep. If\n",
      "      newline is '' or '\\n', no translation takes place. If newline is any\n",
      "      of the other legal values, any '\\n' characters written are translated\n",
      "      to the given string.\n",
      "    \n",
      "    If closefd is False, the underlying file descriptor will be kept open\n",
      "    when the file is closed. This does not work when a file name is given\n",
      "    and must be True in that case.\n",
      "    \n",
      "    A custom opener can be used by passing a callable as *opener*. The\n",
      "    underlying file descriptor for the file object is then obtained by\n",
      "    calling *opener* with (*file*, *flags*). *opener* must return an open\n",
      "    file descriptor (passing os.open as *opener* results in functionality\n",
      "    similar to passing None).\n",
      "    \n",
      "    open() returns a file object whose type depends on the mode, and\n",
      "    through which the standard file operations such as reading and writing\n",
      "    are performed. When open() is used to open a file in a text mode ('w',\n",
      "    'r', 'wt', 'rt', etc.), it returns a TextIOWrapper. When used to open\n",
      "    a file in a binary mode, the returned class varies: in read binary\n",
      "    mode, it returns a BufferedReader; in write binary and append binary\n",
      "    modes, it returns a BufferedWriter, and in read/write mode, it returns\n",
      "    a BufferedRandom.\n",
      "    \n",
      "    It is also possible to use a string or bytearray as a file for both\n",
      "    reading and writing. For strings StringIO can be used like a file\n",
      "    opened in a text mode, and for bytes a BytesIO can be used like a file\n",
      "    opened in a binary mode.\n",
      "\n"
     ]
    }
   ],
   "source": [
    "help(open)"
   ]
  },
  {
   "cell_type": "code",
   "execution_count": 164,
   "metadata": {},
   "outputs": [],
   "source": [
    "agenda_fichero = open(\"agenda_digital.txt\", 'w')"
   ]
  },
  {
   "cell_type": "markdown",
   "metadata": {},
   "source": [
    "**Pista 2**: Una vez que hayas leído el fichero en el que vas a escribir tu agenda digital utilizando la función `open()` y se lo hayas asignado a una variable `agenda_fichero`, utiliza el método `agenda_fichero.write()` para escribir el diccionario en el fichero. Por el momento no hace falta que comprendas que son los métodos, lo veremos más adelante en el curso."
   ]
  },
  {
   "cell_type": "code",
   "execution_count": 165,
   "metadata": {},
   "outputs": [],
   "source": [
    "# Esta sentencia escribe el diccionario en el fichero\n",
    "agenda_fichero.write(str(agenda_digital))\n",
    "\n",
    "# Esta sentencia cierra el fichero que has abierto con la funcion open()\n",
    "agenda_fichero.close()"
   ]
  },
  {
   "cell_type": "markdown",
   "metadata": {},
   "source": [
    "**Pista 3**: Recuerda que debes escribir una función, te recomiendo que tu función tenga una definición similar a la siguiente:\n",
    "```\n",
    "def escribir_agenda(nombre_agenda, agenda_digital):\n",
    "    <sentencias que escriben la agenda digital en disco>\n",
    "```"
   ]
  },
  {
   "cell_type": "code",
   "execution_count": 137,
   "metadata": {},
   "outputs": [],
   "source": [
    "def escribir_agenda(nombre_agenda, agenda_digital):\n",
    "    \"\"\"Escribe la agenda en un fichero de texto.\n",
    "\n",
    "    Parámetros posicionales:\n",
    "    nombre_agenda -- str que representa el nombre de la agenda en disco.\n",
    "    agenda_digital -- dict que representa la agenda digital y los contactos.\n",
    "    \"\"\"\n",
    "    agenda_fichero = open(nombre_agenda, 'w')\n",
    "    agenda_fichero.write(str(agenda_digital))\n",
    "    agenda_fichero.close()"
   ]
  },
  {
   "cell_type": "code",
   "execution_count": 140,
   "metadata": {},
   "outputs": [],
   "source": [
    "escribir_agenda(\"agenda_digital.txt\", agenda_digital)"
   ]
  },
  {
   "cell_type": "markdown",
   "metadata": {},
   "source": [
    "### 3. Lee la agenda digital de un fichero en disco"
   ]
  },
  {
   "cell_type": "markdown",
   "metadata": {},
   "source": [
    "Ahora que ya hemos definido como va a ser nuestra agenda digital y hemos implementado una función para escribirla en disco y no perder la información que guardamos en ella, lo siguiente que debemos hacer es escribir otra función que nos permita leer ese fichero cada vez que queramos consultar algún contacto."
   ]
  },
  {
   "cell_type": "markdown",
   "metadata": {},
   "source": [
    "<div style=\"background-color:#D9EEFF;color:black;padding:2%;\">\n",
    "Implementa una función en Python que nos permita leer el fichero en el que has escrito la agenda digital y has almacenado en disco en el apartado anterior.\n",
    "</div>"
   ]
  },
  {
   "cell_type": "markdown",
   "metadata": {},
   "source": [
    "**Pista:** La función por defecto `open()` nos permite proporcionarle varios argumentos, entre los que se encuentra uno que nos permite leer un fichero en modo lectura"
   ]
  },
  {
   "cell_type": "code",
   "execution_count": 141,
   "metadata": {},
   "outputs": [],
   "source": [
    "agenda_digital_lectura = open(\"agenda_digital.txt\", 'r')"
   ]
  },
  {
   "cell_type": "markdown",
   "metadata": {},
   "source": [
    "**Pista 2**: Una vez que hayas leído el fichero en el que se encuentra tu agenda digital utilizando la función `open()` y se lo hayas asignado a una variable `agenda_digital_lectura`, utiliza el método `agenda_digital_lectura.readlines()` para leer todas las líneas del fichero. Por el momento no hace falta que comprendas que son los métodos, lo veremos más adelante en el curso."
   ]
  },
  {
   "cell_type": "code",
   "execution_count": 142,
   "metadata": {},
   "outputs": [],
   "source": [
    "# Esta sentencia lee todas las líneas del fichero y las asigna a la variable agenda_digital\n",
    "agenda_digital = agenda_digital_lectura.readlines()\n",
    "\n",
    "# Esta sentencia cierra el fichero que has abierto con la función open()\n",
    "agenda_digital_lectura.close()"
   ]
  },
  {
   "cell_type": "markdown",
   "metadata": {},
   "source": [
    "Comprueba la información que se encuentra en la variable `agenda_digital`. \n",
    "* ¿Qué tipo de dato es? \n",
    "* ¿En qué posición se encuentra el diccionario que representa tu agenda? \n",
    "* ¿Qué tipo de dato es este diccionario? ¿Puedes acceder a sus claves?"
   ]
  },
  {
   "cell_type": "code",
   "execution_count": 144,
   "metadata": {},
   "outputs": [
    {
     "data": {
      "text/plain": [
       "list"
      ]
     },
     "execution_count": 144,
     "metadata": {},
     "output_type": "execute_result"
    }
   ],
   "source": [
    "type(agenda_digital)"
   ]
  },
  {
   "cell_type": "code",
   "execution_count": 79,
   "metadata": {},
   "outputs": [
    {
     "data": {
      "text/plain": [
       "[\"{'John Doe': {'Nombre': 'John Doe', 'Direccion': 'Main Street 123', 'email': 'johndoe@email.com', 'telefono': '123123123'}, 'Marie Smith': {'Nombre': 'Marie Smith', 'Direccion': 'Main Street 11', 'email': 'mairesmith@email.com', 'telefono': '456456456'}}\"]"
      ]
     },
     "execution_count": 79,
     "metadata": {},
     "output_type": "execute_result"
    }
   ],
   "source": [
    "agenda_digital"
   ]
  },
  {
   "cell_type": "code",
   "execution_count": 80,
   "metadata": {},
   "outputs": [
    {
     "data": {
      "text/plain": [
       "\"{'John Doe': {'Nombre': 'John Doe', 'Direccion': 'Main Street 123', 'email': 'johndoe@email.com', 'telefono': '123123123'}, 'Marie Smith': {'Nombre': 'Marie Smith', 'Direccion': 'Main Street 11', 'email': 'mairesmith@email.com', 'telefono': '456456456'}}\""
      ]
     },
     "execution_count": 80,
     "metadata": {},
     "output_type": "execute_result"
    }
   ],
   "source": [
    "agenda_digital[0]"
   ]
  },
  {
   "cell_type": "code",
   "execution_count": 81,
   "metadata": {},
   "outputs": [
    {
     "data": {
      "text/plain": [
       "str"
      ]
     },
     "execution_count": 81,
     "metadata": {},
     "output_type": "execute_result"
    }
   ],
   "source": [
    "type(agenda_digital[0])"
   ]
  },
  {
   "cell_type": "markdown",
   "metadata": {},
   "source": [
    "**Pista 3**: Como habrás podido observar, el diccionario que representa nuestra agenda digital, cuando lo hemos leído con la función `open()` a partir del fichero en el que se encontraba almacenado viene representado con tipo `str`. Conviértelo de nuevo en un diciconario, para ello, échale un ojo a la función por defecto de Python `eval()`."
   ]
  },
  {
   "cell_type": "code",
   "execution_count": 146,
   "metadata": {},
   "outputs": [
    {
     "data": {
      "text/plain": [
       "dict"
      ]
     },
     "execution_count": 146,
     "metadata": {},
     "output_type": "execute_result"
    }
   ],
   "source": [
    "type(eval(agenda_digital[0]))"
   ]
  },
  {
   "cell_type": "code",
   "execution_count": 147,
   "metadata": {},
   "outputs": [],
   "source": [
    "agenda_digital = eval(agenda_digital[0])"
   ]
  },
  {
   "cell_type": "code",
   "execution_count": 148,
   "metadata": {},
   "outputs": [
    {
     "data": {
      "text/plain": [
       "{'John Doe': {'direccion': 'Main Street, 123',\n",
       "  'email': 'john.doe@email.com',\n",
       "  'telefono': '123123123'},\n",
       " 'Marie Smith': {'direccion': 'Main Street, 11',\n",
       "  'email': 'maire.smith@email.com',\n",
       "  'telefono': '456456456'}}"
      ]
     },
     "execution_count": 148,
     "metadata": {},
     "output_type": "execute_result"
    }
   ],
   "source": [
    "agenda_digital"
   ]
  },
  {
   "cell_type": "markdown",
   "metadata": {},
   "source": [
    "**Pista 4**: Recuerda que debes escribir una función, te recomiendo que tu función tenga una definición similar a la siguiente:\n",
    "```\n",
    "def leer_agenda(nombre_agenda):\n",
    "    <sentencias que leen la agenda digital de disco>\n",
    "```"
   ]
  },
  {
   "cell_type": "code",
   "execution_count": 151,
   "metadata": {},
   "outputs": [],
   "source": [
    "def leer_agenda(nombre_agenda):\n",
    "    \"\"\"Lee la agenda digital de un fichero en disco.\n",
    "    \n",
    "    Parámetros posicionales:\n",
    "    nombre_agenda -- str que representa el nombre de la agenda en disco.\n",
    "    \"\"\"\n",
    "    agenda_digital_lectura = open(nombre_agenda, 'r')\n",
    "    agenda_digital = agenda_digital_lectura.readlines()\n",
    "    agenda_digital_lectura.close()\n",
    "    return eval(agenda_digital[0])"
   ]
  },
  {
   "cell_type": "code",
   "execution_count": 153,
   "metadata": {},
   "outputs": [
    {
     "data": {
      "text/plain": [
       "{'John Doe': {'direccion': 'Main Street, 123',\n",
       "  'email': 'john.doe@email.com',\n",
       "  'telefono': '123123123'},\n",
       " 'Marie Smith': {'direccion': 'Main Street, 11',\n",
       "  'email': 'maire.smith@email.com',\n",
       "  'telefono': '456456456'}}"
      ]
     },
     "execution_count": 153,
     "metadata": {},
     "output_type": "execute_result"
    }
   ],
   "source": [
    "leer_agenda(\"agenda_digital.txt\")"
   ]
  },
  {
   "cell_type": "markdown",
   "metadata": {},
   "source": [
    "### 4. Crea un menu para introducir un nombre en la agenda"
   ]
  },
  {
   "cell_type": "markdown",
   "metadata": {},
   "source": [
    "Si has llegado hasta este apartado, ¡enhorabuena! ya has implementado gran parte de la funcionalidad de nuestra agenda digital. Ahora que tenemos funciones para escrbir y leer la agenda de un fichero que se encuentra almacenado en disco, necesitamos una función que nos permita crear nuevos contactos dentro de nuestra agenda."
   ]
  },
  {
   "cell_type": "markdown",
   "metadata": {},
   "source": [
    "<div style=\"background-color:#D9EEFF;color:black;padding:2%;\">\n",
    "Crea una función en Python que solicite los datos de un nuevo contacto de la agenda por pantalla al usuario y cree una nueva entrada en nuestra agenda digital\n",
    "</div>"
   ]
  },
  {
   "cell_type": "markdown",
   "metadata": {},
   "source": [
    "**Pista:** Divide este apartado en dos funciones. En la primera función implementa el código que solicite al usuario por pantalla los campos necesarios para un nuevo contacto de la agenda. En la segunda función, implementa el código necesario para crear este nuevo contacto en la agenda digital. Te recomiendo que las funciones tengan una definición similar a la siguiente:\n",
    "\n",
    "```\n",
    "def solicitar_contacto_agenda():\n",
    "    <sentencias que solicitan los datos de un nuevo contacto>\n",
    "```\n",
    "\n",
    "```\n",
    "def crear_contacto(agenda_digital, nuevo_contacto):\n",
    "    <sentencias que crean el nuevo contacto en la agenda digital>\n",
    "```"
   ]
  },
  {
   "cell_type": "code",
   "execution_count": 158,
   "metadata": {},
   "outputs": [],
   "source": [
    "def solicitar_contacto_agenda():\n",
    "    \"\"\"Esta función solicita al usuario los datos de un nuevo contacto.\"\"\"\n",
    "    nombre = input(\"Introduce el nombre completo del contacto:\\n\")\n",
    "    direccion = input(\"Introduce la dirección del contacto:\\n\")\n",
    "    email = input(\"Introduce el email del contacto:\\n\")\n",
    "    telefono = input(\"Introduce el teléfono del contacto:\\n\")\n",
    "    return {\n",
    "        \"nombre\": nombre,\n",
    "        \"direccion\": direccion,\n",
    "        \"email\": email,\n",
    "        \"telefono\": telefono\n",
    "    }"
   ]
  },
  {
   "cell_type": "code",
   "execution_count": 166,
   "metadata": {},
   "outputs": [
    {
     "name": "stdin",
     "output_type": "stream",
     "text": [
      "Introduce el nombre completo del contacto:\n",
      " Joe Bucks\n",
      "Introduce la dirección del contacto:\n",
      " Main Street, 12\n",
      "Introduce el email del contacto:\n",
      " joe.bucks@email.com\n",
      "Introduce el teléfono del contacto:\n",
      " 111222333\n"
     ]
    }
   ],
   "source": [
    "nuevo_contacto = solicitar_contacto_agenda()"
   ]
  },
  {
   "cell_type": "code",
   "execution_count": 167,
   "metadata": {},
   "outputs": [
    {
     "data": {
      "text/plain": [
       "{'nombre': 'Joe Bucks',\n",
       " 'direccion': 'Main Street, 12',\n",
       " 'email': 'joe.bucks@email.com',\n",
       " 'telefono': '111222333'}"
      ]
     },
     "execution_count": 167,
     "metadata": {},
     "output_type": "execute_result"
    }
   ],
   "source": [
    "nuevo_contacto"
   ]
  },
  {
   "cell_type": "code",
   "execution_count": 175,
   "metadata": {},
   "outputs": [],
   "source": [
    "def crear_contacto(agenda_digital, nuevo_contacto):\n",
    "    \"\"\"Introduce un nuevo contacto en la agenda digital.\n",
    "    \n",
    "    Parámetros posicionales:\n",
    "    agenda_digital -- dict que representa la agenda digital y los contactos.\n",
    "    nuevo_contacto -- dict que representa los datos de un nuevo contacto.\n",
    "    \"\"\"\n",
    "    agenda_digital[nuevo_contacto[\"nombre\"]] = dict(direccion=nuevo_contacto[\"direccion\"], email=nuevo_contacto[\"email\"],\n",
    "                                                    telefono=nuevo_contacto[\"telefono\"])"
   ]
  },
  {
   "cell_type": "code",
   "execution_count": 176,
   "metadata": {},
   "outputs": [],
   "source": [
    "crear_contacto(agenda_digital, nuevo_contacto)"
   ]
  },
  {
   "cell_type": "code",
   "execution_count": 177,
   "metadata": {},
   "outputs": [
    {
     "data": {
      "text/plain": [
       "{'John Doe': {'direccion': 'Main Street, 123',\n",
       "  'email': 'john.doe@email.com',\n",
       "  'telefono': '123123123'},\n",
       " 'Marie Smith': {'direccion': 'Main Street, 11',\n",
       "  'email': 'maire.smith@email.com',\n",
       "  'telefono': '456456456'},\n",
       " 'Joe Bucks': {'direccion': 'Main Street, 12',\n",
       "  'email': 'joe.bucks@email.com',\n",
       "  'telefono': '111222333'}}"
      ]
     },
     "execution_count": 177,
     "metadata": {},
     "output_type": "execute_result"
    }
   ],
   "source": [
    "agenda_digital"
   ]
  },
  {
   "cell_type": "markdown",
   "metadata": {},
   "source": [
    "### 5. Crea un menu para consultar un nombre de la agenda"
   ]
  },
  {
   "cell_type": "markdown",
   "metadata": {},
   "source": [
    "¡Genial! Ya casi hemos terminado. Implementa una funcionalidad más en nuestra agenda que nos permita leer los datos relativos a un contacto existente."
   ]
  },
  {
   "cell_type": "markdown",
   "metadata": {},
   "source": [
    "<div style=\"background-color:#D9EEFF;color:black;padding:2%;\">\n",
    "Implementa una función en Python que solicte por pantalla el nombre completo de un contacto de la agenda y, a partir de ese nombre, nos proporcione el resto de información: dirección, email y teléfono...\n",
    "</div>"
   ]
  },
  {
   "cell_type": "code",
   "execution_count": 182,
   "metadata": {},
   "outputs": [],
   "source": [
    "def consultar_contacto(agenda_digital):\n",
    "    \"\"\"Esta función consulta un contacto en la agenda.\n",
    "    \n",
    "    Parámetros posicionales:\n",
    "    agenda_digital -- dict que representa la agenda digital y los contactos.\n",
    "    \"\"\"\n",
    "    nombre_contacto = input(\"Introduce el nombre del contacto:\\n\")\n",
    "    contacto = agenda_digital[nombre_contacto]\n",
    "    print(\"\\nNombre:\", nombre_contacto)\n",
    "    print(\"Dirección:\", contacto[\"direccion\"])\n",
    "    print(\"Email:\", contacto[\"email\"])\n",
    "    print(\"Teléfono:\", contacto[\"telefono\"])"
   ]
  },
  {
   "cell_type": "code",
   "execution_count": 183,
   "metadata": {},
   "outputs": [
    {
     "name": "stdin",
     "output_type": "stream",
     "text": [
      "Introduce el nombre del contacto:\n",
      " Marie Smith\n"
     ]
    },
    {
     "name": "stdout",
     "output_type": "stream",
     "text": [
      "\n",
      "Nombre: Marie Smith\n",
      "Dirección: Main Street, 11\n",
      "Email: maire.smith@email.com\n",
      "Teléfono: 456456456\n"
     ]
    }
   ],
   "source": [
    "consultar_contacto(agenda_digital)"
   ]
  },
  {
   "cell_type": "markdown",
   "metadata": {},
   "source": [
    "### 6. Pon todo en común"
   ]
  },
  {
   "cell_type": "markdown",
   "metadata": {},
   "source": [
    "<div style=\"background-color:#D9EEFF;color:black;padding:2%;\">\n",
    "Pon en común todas las funciones que has implementado en las secciones anteriores para mostrar la funcionalidad de tu agenda digital.\n",
    "</div>"
   ]
  },
  {
   "cell_type": "markdown",
   "metadata": {},
   "source": [
    "#### 6.1. Crea un nuevo contacto en la agenda"
   ]
  },
  {
   "cell_type": "markdown",
   "metadata": {},
   "source": [
    "1. Lee la agenda digital de disco\n",
    "2. Solicita los datos de un nuevo contacto por pantalla al usuario\n",
    "3. Crea un nuevo contacto en la agenda digital\n",
    "4. Escribe la agenda resultante en disco"
   ]
  },
  {
   "cell_type": "code",
   "execution_count": 190,
   "metadata": {},
   "outputs": [
    {
     "name": "stdin",
     "output_type": "stream",
     "text": [
      "Introduce el nombre completo del contacto:\n",
      " Felipe Masa\n",
      "Introduce la dirección del contacto:\n",
      " Street main, 111\n",
      "Introduce el email del contacto:\n",
      " felipe.masa@email.com\n",
      "Introduce el teléfono del contacto:\n",
      " 777888999\n"
     ]
    }
   ],
   "source": [
    "agenda_digital = leer_agenda(\"agenda_digital.txt\")\n",
    "nuevo_contacto = solicitar_contacto_agenda()\n",
    "crear_contacto(agenda_digital, nuevo_contacto)\n",
    "escribir_agenda(\"agenda_digital.txt\", agenda_digital)"
   ]
  },
  {
   "cell_type": "markdown",
   "metadata": {},
   "source": [
    "#### 6.2. Consulta un contacto existente de la agenda digital"
   ]
  },
  {
   "cell_type": "markdown",
   "metadata": {},
   "source": [
    "1. Lee la agenda digital de disco\n",
    "2. Consulta un contacto existente"
   ]
  },
  {
   "cell_type": "code",
   "execution_count": 187,
   "metadata": {},
   "outputs": [
    {
     "name": "stdout",
     "output_type": "stream",
     "text": [
      "Help on function leer_agenda in module __main__:\n",
      "\n",
      "leer_agenda(nombre_agenda)\n",
      "    Lee la agenda digital de un fichero en disco.\n",
      "    \n",
      "    Parámetros posicionales:\n",
      "    nombre_agenda -- str que representa el nombre de la agenda en disco.\n",
      "\n"
     ]
    }
   ],
   "source": [
    "help(leer_agenda)"
   ]
  },
  {
   "cell_type": "code",
   "execution_count": 189,
   "metadata": {},
   "outputs": [
    {
     "name": "stdin",
     "output_type": "stream",
     "text": [
      "Introduce el nombre del contacto:\n",
      " Luís Martín Martín\n"
     ]
    },
    {
     "name": "stdout",
     "output_type": "stream",
     "text": [
      "\n",
      "Nombre: Luís Martín Martín\n",
      "Dirección: Main Street, 56\n",
      "Email: luis.martin@email.com\n",
      "Teléfono: 555666777\n"
     ]
    }
   ],
   "source": [
    "agenda_digital = leer_agenda(\"agenda_digital.txt\")\n",
    "consultar_contacto(agenda_digital)"
   ]
  },
  {
   "cell_type": "markdown",
   "metadata": {},
   "source": [
    "### 7. Ejecuta el ejercicio en Pycharm"
   ]
  },
  {
   "cell_type": "markdown",
   "metadata": {},
   "source": [
    "¿Encuentras alguna limitación a la hora de ejecutar este ejercicio en otro entorno como Pycharm?"
   ]
  },
  {
   "cell_type": "code",
   "execution_count": null,
   "metadata": {},
   "outputs": [],
   "source": []
  }
 ],
 "metadata": {
  "kernelspec": {
   "display_name": "Python 3 (ipykernel)",
   "language": "python",
   "name": "python3"
  },
  "language_info": {
   "codemirror_mode": {
    "name": "ipython",
    "version": 3
   },
   "file_extension": ".py",
   "mimetype": "text/x-python",
   "name": "python",
   "nbconvert_exporter": "python",
   "pygments_lexer": "ipython3",
   "version": "3.9.18"
  }
 },
 "nbformat": 4,
 "nbformat_minor": 4
}
