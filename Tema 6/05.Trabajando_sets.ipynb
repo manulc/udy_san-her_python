{
 "cells": [
  {
   "cell_type": "markdown",
   "id": "0d6b0044",
   "metadata": {},
   "source": [
    "# Trabajando con Sets"
   ]
  },
  {
   "cell_type": "markdown",
   "id": "1b03bce8",
   "metadata": {},
   "source": [
    "Como hemos visto en el tema anterior, todos los tipos de datos que definimos en Python son objetos, y como consecuencia de esto, tienen varios métodos y atributos interesantes que debemos conocer."
   ]
  },
  {
   "cell_type": "code",
   "execution_count": 1,
   "id": "4fae63ed",
   "metadata": {},
   "outputs": [],
   "source": [
    "mi_set = {'azul', 'amarillo', 'verde'}"
   ]
  },
  {
   "cell_type": "code",
   "execution_count": 2,
   "id": "27a90e5c",
   "metadata": {},
   "outputs": [
    {
     "data": {
      "text/plain": [
       "['__and__',\n",
       " '__class__',\n",
       " '__class_getitem__',\n",
       " '__contains__',\n",
       " '__delattr__',\n",
       " '__dir__',\n",
       " '__doc__',\n",
       " '__eq__',\n",
       " '__format__',\n",
       " '__ge__',\n",
       " '__getattribute__',\n",
       " '__gt__',\n",
       " '__hash__',\n",
       " '__iand__',\n",
       " '__init__',\n",
       " '__init_subclass__',\n",
       " '__ior__',\n",
       " '__isub__',\n",
       " '__iter__',\n",
       " '__ixor__',\n",
       " '__le__',\n",
       " '__len__',\n",
       " '__lt__',\n",
       " '__ne__',\n",
       " '__new__',\n",
       " '__or__',\n",
       " '__rand__',\n",
       " '__reduce__',\n",
       " '__reduce_ex__',\n",
       " '__repr__',\n",
       " '__ror__',\n",
       " '__rsub__',\n",
       " '__rxor__',\n",
       " '__setattr__',\n",
       " '__sizeof__',\n",
       " '__str__',\n",
       " '__sub__',\n",
       " '__subclasshook__',\n",
       " '__xor__',\n",
       " 'add',\n",
       " 'clear',\n",
       " 'copy',\n",
       " 'difference',\n",
       " 'difference_update',\n",
       " 'discard',\n",
       " 'intersection',\n",
       " 'intersection_update',\n",
       " 'isdisjoint',\n",
       " 'issubset',\n",
       " 'issuperset',\n",
       " 'pop',\n",
       " 'remove',\n",
       " 'symmetric_difference',\n",
       " 'symmetric_difference_update',\n",
       " 'union',\n",
       " 'update']"
      ]
     },
     "execution_count": 2,
     "metadata": {},
     "output_type": "execute_result"
    }
   ],
   "source": [
    "dir(set)"
   ]
  },
  {
   "cell_type": "markdown",
   "id": "dcbb96ec",
   "metadata": {},
   "source": [
    "### 1. Operaciones con Sets"
   ]
  },
  {
   "cell_type": "code",
   "execution_count": 3,
   "id": "1bb21457",
   "metadata": {},
   "outputs": [],
   "source": [
    "mi_set1 = {'azul', 'rojo', 'verde'}\n",
    "mi_set2 = {'morado', 'rojo', 'amarillo'}"
   ]
  },
  {
   "cell_type": "code",
   "execution_count": 4,
   "id": "0d8fa4b0",
   "metadata": {},
   "outputs": [
    {
     "data": {
      "text/plain": [
       "{'rojo'}"
      ]
     },
     "execution_count": 4,
     "metadata": {},
     "output_type": "execute_result"
    }
   ],
   "source": [
    "# Elementos que coinciden en ámbos conjuntos\n",
    "mi_set1.intersection(mi_set2)"
   ]
  },
  {
   "cell_type": "code",
   "execution_count": 5,
   "id": "d4c91510",
   "metadata": {},
   "outputs": [
    {
     "data": {
      "text/plain": [
       "{'amarillo', 'azul', 'morado', 'rojo', 'verde'}"
      ]
     },
     "execution_count": 5,
     "metadata": {},
     "output_type": "execute_result"
    }
   ],
   "source": [
    "# Todos los elementos que están en ámbos conjuntos(sin repetirse)\n",
    "mi_set1.union(mi_set2)"
   ]
  },
  {
   "cell_type": "code",
   "execution_count": 7,
   "id": "3a2b60c9",
   "metadata": {},
   "outputs": [
    {
     "data": {
      "text/plain": [
       "False"
      ]
     },
     "execution_count": 7,
     "metadata": {},
     "output_type": "execute_result"
    }
   ],
   "source": [
    "# Comprueba si es un subconjunto\n",
    "mi_set1.issubset(mi_set2)"
   ]
  },
  {
   "cell_type": "code",
   "execution_count": 8,
   "id": "0974a14d",
   "metadata": {},
   "outputs": [
    {
     "data": {
      "text/plain": [
       "True"
      ]
     },
     "execution_count": 8,
     "metadata": {},
     "output_type": "execute_result"
    }
   ],
   "source": [
    "mi_set1.issubset({'azul', 'rojo', 'verde', 'morado'})"
   ]
  },
  {
   "cell_type": "code",
   "execution_count": 9,
   "id": "91d27cee",
   "metadata": {},
   "outputs": [
    {
     "data": {
      "text/plain": [
       "{'amarillo', 'azul', 'morado', 'verde'}"
      ]
     },
     "execution_count": 9,
     "metadata": {},
     "output_type": "execute_result"
    }
   ],
   "source": [
    "# Elementos de ámbos conjuntos que no se repiten\n",
    "mi_set1.symmetric_difference(mi_set2)"
   ]
  }
 ],
 "metadata": {
  "kernelspec": {
   "display_name": "Python 3 (ipykernel)",
   "language": "python",
   "name": "python3"
  },
  "language_info": {
   "codemirror_mode": {
    "name": "ipython",
    "version": 3
   },
   "file_extension": ".py",
   "mimetype": "text/x-python",
   "name": "python",
   "nbconvert_exporter": "python",
   "pygments_lexer": "ipython3",
   "version": "3.9.18"
  }
 },
 "nbformat": 4,
 "nbformat_minor": 5
}
