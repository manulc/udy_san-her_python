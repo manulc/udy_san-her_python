{
 "cells": [
  {
   "cell_type": "markdown",
   "id": "0d58db83",
   "metadata": {},
   "source": [
    "# Trabajando con Listas"
   ]
  },
  {
   "cell_type": "markdown",
   "id": "1e3c95e0",
   "metadata": {},
   "source": [
    "Como hemos visto en el tema anterior, todos los tipos de datos que definimos en Python son objetos, y como consecuencia de esto, tienen varios métodos y atributos interesantes que debemos conocer."
   ]
  },
  {
   "cell_type": "code",
   "execution_count": 2,
   "id": "3db65897",
   "metadata": {},
   "outputs": [],
   "source": [
    "lista = [\"azul\", \"verde\", \"rojo\"]"
   ]
  },
  {
   "cell_type": "code",
   "execution_count": 3,
   "id": "ccb916b4",
   "metadata": {},
   "outputs": [
    {
     "data": {
      "text/plain": [
       "['__add__',\n",
       " '__class__',\n",
       " '__class_getitem__',\n",
       " '__contains__',\n",
       " '__delattr__',\n",
       " '__delitem__',\n",
       " '__dir__',\n",
       " '__doc__',\n",
       " '__eq__',\n",
       " '__format__',\n",
       " '__ge__',\n",
       " '__getattribute__',\n",
       " '__getitem__',\n",
       " '__gt__',\n",
       " '__hash__',\n",
       " '__iadd__',\n",
       " '__imul__',\n",
       " '__init__',\n",
       " '__init_subclass__',\n",
       " '__iter__',\n",
       " '__le__',\n",
       " '__len__',\n",
       " '__lt__',\n",
       " '__mul__',\n",
       " '__ne__',\n",
       " '__new__',\n",
       " '__reduce__',\n",
       " '__reduce_ex__',\n",
       " '__repr__',\n",
       " '__reversed__',\n",
       " '__rmul__',\n",
       " '__setattr__',\n",
       " '__setitem__',\n",
       " '__sizeof__',\n",
       " '__str__',\n",
       " '__subclasshook__',\n",
       " 'append',\n",
       " 'clear',\n",
       " 'copy',\n",
       " 'count',\n",
       " 'extend',\n",
       " 'index',\n",
       " 'insert',\n",
       " 'pop',\n",
       " 'remove',\n",
       " 'reverse',\n",
       " 'sort']"
      ]
     },
     "execution_count": 3,
     "metadata": {},
     "output_type": "execute_result"
    }
   ],
   "source": [
    "dir(lista)"
   ]
  },
  {
   "cell_type": "markdown",
   "id": "8ed8c7c3",
   "metadata": {},
   "source": [
    "### 1. Modificando una lista"
   ]
  },
  {
   "cell_type": "code",
   "execution_count": 4,
   "id": "c3b30c36",
   "metadata": {},
   "outputs": [
    {
     "data": {
      "text/plain": [
       "['azul', 'verde', 'rojo']"
      ]
     },
     "execution_count": 4,
     "metadata": {},
     "output_type": "execute_result"
    }
   ],
   "source": [
    "lista"
   ]
  },
  {
   "cell_type": "code",
   "execution_count": 6,
   "id": "25f38246",
   "metadata": {},
   "outputs": [],
   "source": [
    "lista.append(\"amrillo\")"
   ]
  },
  {
   "cell_type": "code",
   "execution_count": 7,
   "id": "0038e32b",
   "metadata": {},
   "outputs": [
    {
     "data": {
      "text/plain": [
       "['azul', 'verde', 'rojo', 'amrillo']"
      ]
     },
     "execution_count": 7,
     "metadata": {},
     "output_type": "execute_result"
    }
   ],
   "source": [
    "lista"
   ]
  },
  {
   "cell_type": "code",
   "execution_count": 10,
   "id": "5ec7eb95",
   "metadata": {},
   "outputs": [],
   "source": [
    "lista.append([\"amarillo\", \"verde\"])"
   ]
  },
  {
   "cell_type": "code",
   "execution_count": 11,
   "id": "9746c60e",
   "metadata": {},
   "outputs": [
    {
     "data": {
      "text/plain": [
       "['azul', 'verde', 'rojo', 'amrillo', ['amarillo', 'verde']]"
      ]
     },
     "execution_count": 11,
     "metadata": {},
     "output_type": "execute_result"
    }
   ],
   "source": [
    "lista"
   ]
  },
  {
   "cell_type": "code",
   "execution_count": 12,
   "id": "9071c4bf",
   "metadata": {},
   "outputs": [],
   "source": [
    "lista = [\"azul\", \"verde\", \"rojo\"]"
   ]
  },
  {
   "cell_type": "code",
   "execution_count": 13,
   "id": "56014aa6",
   "metadata": {},
   "outputs": [],
   "source": [
    "lista.extend([\"morado\", \"amarillo\", \"azul\"])"
   ]
  },
  {
   "cell_type": "code",
   "execution_count": 14,
   "id": "d3816b00",
   "metadata": {},
   "outputs": [
    {
     "data": {
      "text/plain": [
       "['azul', 'verde', 'rojo', 'morado', 'amarillo', 'azul']"
      ]
     },
     "execution_count": 14,
     "metadata": {},
     "output_type": "execute_result"
    }
   ],
   "source": [
    "lista"
   ]
  },
  {
   "cell_type": "code",
   "execution_count": 15,
   "id": "0251b903",
   "metadata": {},
   "outputs": [],
   "source": [
    "lista.remove(\"azul\")"
   ]
  },
  {
   "cell_type": "code",
   "execution_count": 16,
   "id": "4b632b8a",
   "metadata": {},
   "outputs": [
    {
     "data": {
      "text/plain": [
       "['verde', 'rojo', 'morado', 'amarillo', 'azul']"
      ]
     },
     "execution_count": 16,
     "metadata": {},
     "output_type": "execute_result"
    }
   ],
   "source": [
    "lista"
   ]
  },
  {
   "cell_type": "code",
   "execution_count": 17,
   "id": "f695506f",
   "metadata": {},
   "outputs": [],
   "source": [
    "lista.reverse()"
   ]
  },
  {
   "cell_type": "code",
   "execution_count": 18,
   "id": "8092e8c4",
   "metadata": {},
   "outputs": [
    {
     "data": {
      "text/plain": [
       "['azul', 'amarillo', 'morado', 'rojo', 'verde']"
      ]
     },
     "execution_count": 18,
     "metadata": {},
     "output_type": "execute_result"
    }
   ],
   "source": [
    "lista"
   ]
  },
  {
   "cell_type": "code",
   "execution_count": 19,
   "id": "49af0fe9",
   "metadata": {},
   "outputs": [
    {
     "data": {
      "text/plain": [
       "'verde'"
      ]
     },
     "execution_count": 19,
     "metadata": {},
     "output_type": "execute_result"
    }
   ],
   "source": [
    "lista.pop()"
   ]
  },
  {
   "cell_type": "code",
   "execution_count": 20,
   "id": "1ad6f33e",
   "metadata": {},
   "outputs": [
    {
     "data": {
      "text/plain": [
       "['azul', 'amarillo', 'morado', 'rojo']"
      ]
     },
     "execution_count": 20,
     "metadata": {},
     "output_type": "execute_result"
    }
   ],
   "source": [
    "lista"
   ]
  },
  {
   "cell_type": "code",
   "execution_count": 21,
   "id": "365d69ce",
   "metadata": {},
   "outputs": [],
   "source": [
    "lista2 = lista"
   ]
  },
  {
   "cell_type": "code",
   "execution_count": 22,
   "id": "76c94514",
   "metadata": {},
   "outputs": [],
   "source": [
    "lista2[0] = \"rojo\""
   ]
  },
  {
   "cell_type": "code",
   "execution_count": 23,
   "id": "f0df47c7",
   "metadata": {},
   "outputs": [
    {
     "data": {
      "text/plain": [
       "['rojo', 'amarillo', 'morado', 'rojo']"
      ]
     },
     "execution_count": 23,
     "metadata": {},
     "output_type": "execute_result"
    }
   ],
   "source": [
    "lista2"
   ]
  },
  {
   "cell_type": "code",
   "execution_count": 24,
   "id": "cc5b6316",
   "metadata": {},
   "outputs": [
    {
     "data": {
      "text/plain": [
       "['rojo', 'amarillo', 'morado', 'rojo']"
      ]
     },
     "execution_count": 24,
     "metadata": {},
     "output_type": "execute_result"
    }
   ],
   "source": [
    "lista"
   ]
  },
  {
   "cell_type": "code",
   "execution_count": 25,
   "id": "00e7c126",
   "metadata": {},
   "outputs": [],
   "source": [
    "lista2 = lista.copy()"
   ]
  },
  {
   "cell_type": "code",
   "execution_count": 26,
   "id": "0dcdd6ac",
   "metadata": {},
   "outputs": [],
   "source": [
    "lista2[0] = \"azul\""
   ]
  },
  {
   "cell_type": "code",
   "execution_count": 27,
   "id": "fadb2de5",
   "metadata": {},
   "outputs": [
    {
     "data": {
      "text/plain": [
       "['azul', 'amarillo', 'morado', 'rojo']"
      ]
     },
     "execution_count": 27,
     "metadata": {},
     "output_type": "execute_result"
    }
   ],
   "source": [
    "lista2"
   ]
  },
  {
   "cell_type": "code",
   "execution_count": 28,
   "id": "adcb1896",
   "metadata": {},
   "outputs": [
    {
     "data": {
      "text/plain": [
       "['rojo', 'amarillo', 'morado', 'rojo']"
      ]
     },
     "execution_count": 28,
     "metadata": {},
     "output_type": "execute_result"
    }
   ],
   "source": [
    "lista"
   ]
  },
  {
   "cell_type": "code",
   "execution_count": 29,
   "id": "6ffa404e",
   "metadata": {},
   "outputs": [],
   "source": [
    "lista2.clear()"
   ]
  },
  {
   "cell_type": "code",
   "execution_count": 30,
   "id": "484fb543",
   "metadata": {},
   "outputs": [
    {
     "data": {
      "text/plain": [
       "[]"
      ]
     },
     "execution_count": 30,
     "metadata": {},
     "output_type": "execute_result"
    }
   ],
   "source": [
    "lista2"
   ]
  },
  {
   "cell_type": "markdown",
   "id": "176b7260",
   "metadata": {},
   "source": [
    "### 2. Accediendo a elementos de la lista"
   ]
  },
  {
   "cell_type": "code",
   "execution_count": 31,
   "id": "c693d690",
   "metadata": {},
   "outputs": [],
   "source": [
    "lista = ['azul', 'verde', 'rojo']"
   ]
  },
  {
   "cell_type": "code",
   "execution_count": 32,
   "id": "5bedcb8e",
   "metadata": {},
   "outputs": [
    {
     "data": {
      "text/plain": [
       "1"
      ]
     },
     "execution_count": 32,
     "metadata": {},
     "output_type": "execute_result"
    }
   ],
   "source": [
    "lista.index('verde')"
   ]
  },
  {
   "cell_type": "code",
   "execution_count": 33,
   "id": "0f45f19d",
   "metadata": {},
   "outputs": [
    {
     "data": {
      "text/plain": [
       "2"
      ]
     },
     "execution_count": 33,
     "metadata": {},
     "output_type": "execute_result"
    }
   ],
   "source": [
    "lista.index('rojo')"
   ]
  },
  {
   "cell_type": "code",
   "execution_count": 34,
   "id": "bf3c6f3c",
   "metadata": {},
   "outputs": [],
   "source": [
    "lista.extend(['azul', 'azul'])"
   ]
  },
  {
   "cell_type": "code",
   "execution_count": 35,
   "id": "9182bb58",
   "metadata": {},
   "outputs": [
    {
     "data": {
      "text/plain": [
       "['azul', 'verde', 'rojo', 'azul', 'azul']"
      ]
     },
     "execution_count": 35,
     "metadata": {},
     "output_type": "execute_result"
    }
   ],
   "source": [
    "lista"
   ]
  },
  {
   "cell_type": "code",
   "execution_count": 36,
   "id": "193e4ea1",
   "metadata": {},
   "outputs": [
    {
     "data": {
      "text/plain": [
       "0"
      ]
     },
     "execution_count": 36,
     "metadata": {},
     "output_type": "execute_result"
    }
   ],
   "source": [
    "lista.index('azul')"
   ]
  },
  {
   "cell_type": "code",
   "execution_count": 37,
   "id": "4ca292a6",
   "metadata": {},
   "outputs": [
    {
     "data": {
      "text/plain": [
       "3"
      ]
     },
     "execution_count": 37,
     "metadata": {},
     "output_type": "execute_result"
    }
   ],
   "source": [
    "lista.count('azul')"
   ]
  }
 ],
 "metadata": {
  "kernelspec": {
   "display_name": "Python 3 (ipykernel)",
   "language": "python",
   "name": "python3"
  },
  "language_info": {
   "codemirror_mode": {
    "name": "ipython",
    "version": 3
   },
   "file_extension": ".py",
   "mimetype": "text/x-python",
   "name": "python",
   "nbconvert_exporter": "python",
   "pygments_lexer": "ipython3",
   "version": "3.9.18"
  }
 },
 "nbformat": 4,
 "nbformat_minor": 5
}
