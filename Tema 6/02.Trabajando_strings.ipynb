{
 "cells": [
  {
   "cell_type": "markdown",
   "id": "4e0f2390",
   "metadata": {},
   "source": [
    "# Trabajando con Strings"
   ]
  },
  {
   "cell_type": "markdown",
   "id": "c7f13542",
   "metadata": {},
   "source": [
    "Como hemos visto en el tema anterior, todos los tipos de datos que definimos en Python son objetos, y como consecuencia de esto, tienen varios métodos y atributos interesantes que debemos conocer."
   ]
  },
  {
   "cell_type": "code",
   "execution_count": 1,
   "id": "84759f23",
   "metadata": {},
   "outputs": [],
   "source": [
    "texto = \"Cadena de texto\""
   ]
  },
  {
   "cell_type": "code",
   "execution_count": 2,
   "id": "792965c1",
   "metadata": {},
   "outputs": [
    {
     "data": {
      "text/plain": [
       "['__add__',\n",
       " '__class__',\n",
       " '__contains__',\n",
       " '__delattr__',\n",
       " '__dir__',\n",
       " '__doc__',\n",
       " '__eq__',\n",
       " '__format__',\n",
       " '__ge__',\n",
       " '__getattribute__',\n",
       " '__getitem__',\n",
       " '__getnewargs__',\n",
       " '__gt__',\n",
       " '__hash__',\n",
       " '__init__',\n",
       " '__init_subclass__',\n",
       " '__iter__',\n",
       " '__le__',\n",
       " '__len__',\n",
       " '__lt__',\n",
       " '__mod__',\n",
       " '__mul__',\n",
       " '__ne__',\n",
       " '__new__',\n",
       " '__reduce__',\n",
       " '__reduce_ex__',\n",
       " '__repr__',\n",
       " '__rmod__',\n",
       " '__rmul__',\n",
       " '__setattr__',\n",
       " '__sizeof__',\n",
       " '__str__',\n",
       " '__subclasshook__',\n",
       " 'capitalize',\n",
       " 'casefold',\n",
       " 'center',\n",
       " 'count',\n",
       " 'encode',\n",
       " 'endswith',\n",
       " 'expandtabs',\n",
       " 'find',\n",
       " 'format',\n",
       " 'format_map',\n",
       " 'index',\n",
       " 'isalnum',\n",
       " 'isalpha',\n",
       " 'isascii',\n",
       " 'isdecimal',\n",
       " 'isdigit',\n",
       " 'isidentifier',\n",
       " 'islower',\n",
       " 'isnumeric',\n",
       " 'isprintable',\n",
       " 'isspace',\n",
       " 'istitle',\n",
       " 'isupper',\n",
       " 'join',\n",
       " 'ljust',\n",
       " 'lower',\n",
       " 'lstrip',\n",
       " 'maketrans',\n",
       " 'partition',\n",
       " 'removeprefix',\n",
       " 'removesuffix',\n",
       " 'replace',\n",
       " 'rfind',\n",
       " 'rindex',\n",
       " 'rjust',\n",
       " 'rpartition',\n",
       " 'rsplit',\n",
       " 'rstrip',\n",
       " 'split',\n",
       " 'splitlines',\n",
       " 'startswith',\n",
       " 'strip',\n",
       " 'swapcase',\n",
       " 'title',\n",
       " 'translate',\n",
       " 'upper',\n",
       " 'zfill']"
      ]
     },
     "execution_count": 2,
     "metadata": {},
     "output_type": "execute_result"
    }
   ],
   "source": [
    "dir(texto)"
   ]
  },
  {
   "cell_type": "markdown",
   "id": "8448247b",
   "metadata": {},
   "source": [
    "### 1. Transformaciones entre letras mayúsculas y minúsculas"
   ]
  },
  {
   "cell_type": "code",
   "execution_count": 3,
   "id": "ce010ea9",
   "metadata": {},
   "outputs": [],
   "source": [
    "texto = \"hOlA mUnDo\""
   ]
  },
  {
   "cell_type": "code",
   "execution_count": 6,
   "id": "20247489",
   "metadata": {},
   "outputs": [],
   "source": [
    "texto2 = texto.capitalize()"
   ]
  },
  {
   "cell_type": "code",
   "execution_count": 7,
   "id": "7c16e0b4",
   "metadata": {},
   "outputs": [
    {
     "data": {
      "text/plain": [
       "'Hola mundo'"
      ]
     },
     "execution_count": 7,
     "metadata": {},
     "output_type": "execute_result"
    }
   ],
   "source": [
    "texto2"
   ]
  },
  {
   "cell_type": "code",
   "execution_count": 8,
   "id": "5fbe2100",
   "metadata": {},
   "outputs": [
    {
     "data": {
      "text/plain": [
       "'hola mundo'"
      ]
     },
     "execution_count": 8,
     "metadata": {},
     "output_type": "execute_result"
    }
   ],
   "source": [
    "texto.lower()"
   ]
  },
  {
   "cell_type": "code",
   "execution_count": 9,
   "id": "673cb8bf",
   "metadata": {},
   "outputs": [
    {
     "data": {
      "text/plain": [
       "'HOLA MUNDO'"
      ]
     },
     "execution_count": 9,
     "metadata": {},
     "output_type": "execute_result"
    }
   ],
   "source": [
    "texto.upper()"
   ]
  },
  {
   "cell_type": "code",
   "execution_count": 10,
   "id": "ab3fec2d",
   "metadata": {},
   "outputs": [
    {
     "data": {
      "text/plain": [
       "'Hola Mundo'"
      ]
     },
     "execution_count": 10,
     "metadata": {},
     "output_type": "execute_result"
    }
   ],
   "source": [
    "texto.title()"
   ]
  },
  {
   "cell_type": "code",
   "execution_count": 11,
   "id": "a56a71fc",
   "metadata": {},
   "outputs": [
    {
     "data": {
      "text/plain": [
       "'HoLa MuNdO'"
      ]
     },
     "execution_count": 11,
     "metadata": {},
     "output_type": "execute_result"
    }
   ],
   "source": [
    "texto.swapcase()"
   ]
  },
  {
   "cell_type": "code",
   "execution_count": 12,
   "id": "21b2481a",
   "metadata": {},
   "outputs": [
    {
     "data": {
      "text/plain": [
       "True"
      ]
     },
     "execution_count": 12,
     "metadata": {},
     "output_type": "execute_result"
    }
   ],
   "source": [
    "\"COLOR\".lower() == \"color\""
   ]
  },
  {
   "cell_type": "markdown",
   "id": "a0487f80",
   "metadata": {},
   "source": [
    "### 2. Buscar y reemplazar "
   ]
  },
  {
   "cell_type": "code",
   "execution_count": 17,
   "id": "edb4679c",
   "metadata": {},
   "outputs": [],
   "source": [
    "texto = \"aoo boo coo boo\""
   ]
  },
  {
   "cell_type": "code",
   "execution_count": 18,
   "id": "5a64b9f3",
   "metadata": {},
   "outputs": [
    {
     "data": {
      "text/plain": [
       "4"
      ]
     },
     "execution_count": 18,
     "metadata": {},
     "output_type": "execute_result"
    }
   ],
   "source": [
    "# Cuenta las veces que se repite una subcadena\n",
    "texto.count(\"oo\")"
   ]
  },
  {
   "cell_type": "code",
   "execution_count": 19,
   "id": "c77c61ba",
   "metadata": {},
   "outputs": [
    {
     "data": {
      "text/plain": [
       "4"
      ]
     },
     "execution_count": 19,
     "metadata": {},
     "output_type": "execute_result"
    }
   ],
   "source": [
    "# Devuelve el índice donde se encuentra la subcadena\n",
    "texto.find(\"boo\")"
   ]
  },
  {
   "cell_type": "code",
   "execution_count": 20,
   "id": "6adbadbe",
   "metadata": {},
   "outputs": [
    {
     "data": {
      "text/plain": [
       "'boo'"
      ]
     },
     "execution_count": 20,
     "metadata": {},
     "output_type": "execute_result"
    }
   ],
   "source": [
    "texto[4:4 + len(\"boo\")]"
   ]
  },
  {
   "cell_type": "code",
   "execution_count": 21,
   "id": "c5f69897",
   "metadata": {},
   "outputs": [
    {
     "data": {
      "text/plain": [
       "12"
      ]
     },
     "execution_count": 21,
     "metadata": {},
     "output_type": "execute_result"
    }
   ],
   "source": [
    "# Busca la subcadena empezando por el final\n",
    "texto.rfind(\"boo\")"
   ]
  },
  {
   "cell_type": "markdown",
   "id": "c0db5c48",
   "metadata": {},
   "source": [
    "### 3. Clasificaciones de caracteres"
   ]
  },
  {
   "cell_type": "code",
   "execution_count": 27,
   "id": "58891374",
   "metadata": {},
   "outputs": [],
   "source": [
    "texto1 = '123abc'\n",
    "texto2 = '123$abc'\n",
    "texto3 = \"123\""
   ]
  },
  {
   "cell_type": "code",
   "execution_count": 28,
   "id": "f4ad5efe",
   "metadata": {},
   "outputs": [
    {
     "data": {
      "text/plain": [
       "True"
      ]
     },
     "execution_count": 28,
     "metadata": {},
     "output_type": "execute_result"
    }
   ],
   "source": [
    "# Determina si todos los caracteres son alfanuméricos\n",
    "texto1.isalnum()"
   ]
  },
  {
   "cell_type": "code",
   "execution_count": 29,
   "id": "d4b339bb",
   "metadata": {},
   "outputs": [
    {
     "data": {
      "text/plain": [
       "False"
      ]
     },
     "execution_count": 29,
     "metadata": {},
     "output_type": "execute_result"
    }
   ],
   "source": [
    "texto2.isalnum()"
   ]
  },
  {
   "cell_type": "code",
   "execution_count": 30,
   "id": "01f822b3",
   "metadata": {},
   "outputs": [
    {
     "data": {
      "text/plain": [
       "False"
      ]
     },
     "execution_count": 30,
     "metadata": {},
     "output_type": "execute_result"
    }
   ],
   "source": [
    "# Determina si todos los caracteres son numéricos\n",
    "texto1.isdigit()"
   ]
  },
  {
   "cell_type": "code",
   "execution_count": 26,
   "id": "b082fe36",
   "metadata": {},
   "outputs": [
    {
     "ename": "ValueError",
     "evalue": "invalid literal for int() with base 10: '123abc'",
     "output_type": "error",
     "traceback": [
      "\u001b[1;31m---------------------------------------------------------------------------\u001b[0m",
      "\u001b[1;31mValueError\u001b[0m                                Traceback (most recent call last)",
      "Cell \u001b[1;32mIn[26], line 1\u001b[0m\n\u001b[1;32m----> 1\u001b[0m \u001b[38;5;28;43mint\u001b[39;49m\u001b[43m(\u001b[49m\u001b[43mtexto1\u001b[49m\u001b[43m)\u001b[49m\n",
      "\u001b[1;31mValueError\u001b[0m: invalid literal for int() with base 10: '123abc'"
     ]
    }
   ],
   "source": [
    "int(texto1)"
   ]
  },
  {
   "cell_type": "code",
   "execution_count": 31,
   "id": "fd8db462-9b7a-4d1a-8a47-2c7b78851743",
   "metadata": {},
   "outputs": [
    {
     "data": {
      "text/plain": [
       "True"
      ]
     },
     "execution_count": 31,
     "metadata": {},
     "output_type": "execute_result"
    }
   ],
   "source": [
    "texto3.isdigit()"
   ]
  },
  {
   "cell_type": "code",
   "execution_count": 32,
   "id": "3215e10c-bd47-4fb5-adda-51cd26b1d001",
   "metadata": {},
   "outputs": [
    {
     "data": {
      "text/plain": [
       "123"
      ]
     },
     "execution_count": 32,
     "metadata": {},
     "output_type": "execute_result"
    }
   ],
   "source": [
    "int(texto3)"
   ]
  },
  {
   "cell_type": "markdown",
   "id": "21852db1",
   "metadata": {},
   "source": [
    "### 4. String Formatting"
   ]
  },
  {
   "cell_type": "code",
   "execution_count": 33,
   "id": "00933d3a",
   "metadata": {},
   "outputs": [],
   "source": [
    "texto = \"Hola mundo\""
   ]
  },
  {
   "cell_type": "code",
   "execution_count": 37,
   "id": "9310bd02",
   "metadata": {},
   "outputs": [
    {
     "name": "stdout",
     "output_type": "stream",
     "text": [
      "               Hola mundo               \n"
     ]
    }
   ],
   "source": [
    "print(texto.center(40))"
   ]
  },
  {
   "cell_type": "code",
   "execution_count": 39,
   "id": "f81b0426",
   "metadata": {},
   "outputs": [
    {
     "data": {
      "text/plain": [
       "'Hola mundo                              '"
      ]
     },
     "execution_count": 39,
     "metadata": {},
     "output_type": "execute_result"
    }
   ],
   "source": [
    "texto.ljust(40)"
   ]
  },
  {
   "cell_type": "code",
   "execution_count": 43,
   "id": "ea236bd3",
   "metadata": {},
   "outputs": [],
   "source": [
    "texto = \"\\t\\n    hola   que       tal   \""
   ]
  },
  {
   "cell_type": "code",
   "execution_count": 44,
   "id": "e6e2b45d",
   "metadata": {},
   "outputs": [
    {
     "data": {
      "text/plain": [
       "'hola   que       tal   '"
      ]
     },
     "execution_count": 44,
     "metadata": {},
     "output_type": "execute_result"
    }
   ],
   "source": [
    "texto.lstrip()"
   ]
  },
  {
   "cell_type": "code",
   "execution_count": 45,
   "id": "4300c77f",
   "metadata": {},
   "outputs": [
    {
     "data": {
      "text/plain": [
       "'\\t\\n    hola   que       tal'"
      ]
     },
     "execution_count": 45,
     "metadata": {},
     "output_type": "execute_result"
    }
   ],
   "source": [
    "texto.rstrip()"
   ]
  },
  {
   "cell_type": "code",
   "execution_count": 46,
   "id": "fa218e73",
   "metadata": {},
   "outputs": [
    {
     "data": {
      "text/plain": [
       "'hola   que       tal'"
      ]
     },
     "execution_count": 46,
     "metadata": {},
     "output_type": "execute_result"
    }
   ],
   "source": [
    "texto.strip()"
   ]
  },
  {
   "cell_type": "code",
   "execution_count": 48,
   "id": "af8ea96f",
   "metadata": {},
   "outputs": [
    {
     "data": {
      "text/plain": [
       "'\\t\\n----hola---que-------tal---'"
      ]
     },
     "execution_count": 48,
     "metadata": {},
     "output_type": "execute_result"
    }
   ],
   "source": [
    "texto.replace(\" \", \"-\")"
   ]
  },
  {
   "cell_type": "code",
   "execution_count": 49,
   "id": "1709a222",
   "metadata": {},
   "outputs": [],
   "source": [
    "texto = \"Hola\""
   ]
  },
  {
   "cell_type": "code",
   "execution_count": 50,
   "id": "0a5d50cb",
   "metadata": {},
   "outputs": [
    {
     "data": {
      "text/plain": [
       "'0000Hola'"
      ]
     },
     "execution_count": 50,
     "metadata": {},
     "output_type": "execute_result"
    }
   ],
   "source": [
    "texto.zfill(8)"
   ]
  },
  {
   "cell_type": "code",
   "execution_count": 51,
   "id": "d888bf7c",
   "metadata": {},
   "outputs": [],
   "source": [
    "bin_texto = \"1011\""
   ]
  },
  {
   "cell_type": "code",
   "execution_count": 52,
   "id": "cd14c0db",
   "metadata": {},
   "outputs": [
    {
     "data": {
      "text/plain": [
       "'00001011'"
      ]
     },
     "execution_count": 52,
     "metadata": {},
     "output_type": "execute_result"
    }
   ],
   "source": [
    "bin_texto.zfill(8)"
   ]
  },
  {
   "cell_type": "code",
   "execution_count": 54,
   "id": "98966dde",
   "metadata": {},
   "outputs": [
    {
     "name": "stdout",
     "output_type": "stream",
     "text": [
      "azul, verde, rojo\n"
     ]
    }
   ],
   "source": [
    "# Concatena un string con un objeto iterable.\n",
    "print(\", \".join([\"azul\", \"verde\", \"rojo\"]))"
   ]
  },
  {
   "cell_type": "code",
   "execution_count": 55,
   "id": "a6fdac9f-dfa6-47a3-acd7-d56d86be9a9f",
   "metadata": {},
   "outputs": [
    {
     "data": {
      "text/plain": [
       "'3-hola-[2, 3]'"
      ]
     },
     "execution_count": 55,
     "metadata": {},
     "output_type": "execute_result"
    }
   ],
   "source": [
    "\"{}-{}-{}\".format(3, \"hola\", [2, 3])"
   ]
  },
  {
   "cell_type": "code",
   "execution_count": null,
   "id": "93b94b45-dfd7-4755-92fa-2d7f6d0836e3",
   "metadata": {},
   "outputs": [],
   "source": []
  }
 ],
 "metadata": {
  "kernelspec": {
   "display_name": "Python 3 (ipykernel)",
   "language": "python",
   "name": "python3"
  },
  "language_info": {
   "codemirror_mode": {
    "name": "ipython",
    "version": 3
   },
   "file_extension": ".py",
   "mimetype": "text/x-python",
   "name": "python",
   "nbconvert_exporter": "python",
   "pygments_lexer": "ipython3",
   "version": "3.9.18"
  }
 },
 "nbformat": 4,
 "nbformat_minor": 5
}
