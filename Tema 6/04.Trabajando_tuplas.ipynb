{
 "cells": [
  {
   "cell_type": "markdown",
   "id": "2bb32bcf",
   "metadata": {},
   "source": [
    "# Trabajando con Tuplas"
   ]
  },
  {
   "cell_type": "markdown",
   "id": "3248a6e2",
   "metadata": {},
   "source": [
    "Como hemos visto en el tema anterior, todos los tipos de datos que definimos en Python son objetos, y como consecuencia de esto, tienen varios métodos y atributos interesantes que debemos conocer."
   ]
  },
  {
   "cell_type": "code",
   "execution_count": 1,
   "id": "d3ae98d0",
   "metadata": {},
   "outputs": [],
   "source": [
    "tupla = ('azul', 'rojo', 'verde')"
   ]
  },
  {
   "cell_type": "code",
   "execution_count": 2,
   "id": "04158ef3",
   "metadata": {},
   "outputs": [
    {
     "data": {
      "text/plain": [
       "['__add__',\n",
       " '__class__',\n",
       " '__class_getitem__',\n",
       " '__contains__',\n",
       " '__delattr__',\n",
       " '__dir__',\n",
       " '__doc__',\n",
       " '__eq__',\n",
       " '__format__',\n",
       " '__ge__',\n",
       " '__getattribute__',\n",
       " '__getitem__',\n",
       " '__getnewargs__',\n",
       " '__gt__',\n",
       " '__hash__',\n",
       " '__init__',\n",
       " '__init_subclass__',\n",
       " '__iter__',\n",
       " '__le__',\n",
       " '__len__',\n",
       " '__lt__',\n",
       " '__mul__',\n",
       " '__ne__',\n",
       " '__new__',\n",
       " '__reduce__',\n",
       " '__reduce_ex__',\n",
       " '__repr__',\n",
       " '__rmul__',\n",
       " '__setattr__',\n",
       " '__sizeof__',\n",
       " '__str__',\n",
       " '__subclasshook__',\n",
       " 'count',\n",
       " 'index']"
      ]
     },
     "execution_count": 2,
     "metadata": {},
     "output_type": "execute_result"
    }
   ],
   "source": [
    "dir(tupla)"
   ]
  },
  {
   "cell_type": "markdown",
   "id": "9ba02216",
   "metadata": {},
   "source": [
    "### 1. Accediendo a elementos de la tupla"
   ]
  },
  {
   "cell_type": "code",
   "execution_count": 3,
   "id": "d94caec7",
   "metadata": {},
   "outputs": [],
   "source": [
    "tupla = ('azul', 'rojo', 'verde', 'azul', 'azul')"
   ]
  },
  {
   "cell_type": "code",
   "execution_count": 4,
   "id": "e053ae9a",
   "metadata": {},
   "outputs": [
    {
     "data": {
      "text/plain": [
       "3"
      ]
     },
     "execution_count": 4,
     "metadata": {},
     "output_type": "execute_result"
    }
   ],
   "source": [
    "tupla.count('azul')"
   ]
  },
  {
   "cell_type": "code",
   "execution_count": 5,
   "id": "2d942302",
   "metadata": {},
   "outputs": [
    {
     "data": {
      "text/plain": [
       "2"
      ]
     },
     "execution_count": 5,
     "metadata": {},
     "output_type": "execute_result"
    }
   ],
   "source": [
    "tupla.index('verde')"
   ]
  }
 ],
 "metadata": {
  "kernelspec": {
   "display_name": "Python 3 (ipykernel)",
   "language": "python",
   "name": "python3"
  },
  "language_info": {
   "codemirror_mode": {
    "name": "ipython",
    "version": 3
   },
   "file_extension": ".py",
   "mimetype": "text/x-python",
   "name": "python",
   "nbconvert_exporter": "python",
   "pygments_lexer": "ipython3",
   "version": "3.9.18"
  }
 },
 "nbformat": 4,
 "nbformat_minor": 5
}
