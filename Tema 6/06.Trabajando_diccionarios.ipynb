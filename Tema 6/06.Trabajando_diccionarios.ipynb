{
 "cells": [
  {
   "cell_type": "markdown",
   "id": "fd40c03a",
   "metadata": {},
   "source": [
    "# Trabajando con Diccionarios"
   ]
  },
  {
   "cell_type": "markdown",
   "id": "af451e51",
   "metadata": {},
   "source": [
    "Como hemos visto en el tema anterior, todos los tipos de datos que definimos en Python son objetos, y como consecuencia de esto, tienen varios métodos y atributos interesantes que debemos conocer."
   ]
  },
  {
   "cell_type": "code",
   "execution_count": 3,
   "id": "054c38df",
   "metadata": {},
   "outputs": [],
   "source": [
    "diccionario = {\n",
    "    \"key1\": 1,\n",
    "    \"key2\": 2\n",
    "}"
   ]
  },
  {
   "cell_type": "code",
   "execution_count": 4,
   "id": "bf015fe1",
   "metadata": {},
   "outputs": [
    {
     "data": {
      "text/plain": [
       "['__class__',\n",
       " '__class_getitem__',\n",
       " '__contains__',\n",
       " '__delattr__',\n",
       " '__delitem__',\n",
       " '__dir__',\n",
       " '__doc__',\n",
       " '__eq__',\n",
       " '__format__',\n",
       " '__ge__',\n",
       " '__getattribute__',\n",
       " '__getitem__',\n",
       " '__gt__',\n",
       " '__hash__',\n",
       " '__init__',\n",
       " '__init_subclass__',\n",
       " '__ior__',\n",
       " '__iter__',\n",
       " '__le__',\n",
       " '__len__',\n",
       " '__lt__',\n",
       " '__ne__',\n",
       " '__new__',\n",
       " '__or__',\n",
       " '__reduce__',\n",
       " '__reduce_ex__',\n",
       " '__repr__',\n",
       " '__reversed__',\n",
       " '__ror__',\n",
       " '__setattr__',\n",
       " '__setitem__',\n",
       " '__sizeof__',\n",
       " '__str__',\n",
       " '__subclasshook__',\n",
       " 'clear',\n",
       " 'copy',\n",
       " 'fromkeys',\n",
       " 'get',\n",
       " 'items',\n",
       " 'keys',\n",
       " 'pop',\n",
       " 'popitem',\n",
       " 'setdefault',\n",
       " 'update',\n",
       " 'values']"
      ]
     },
     "execution_count": 4,
     "metadata": {},
     "output_type": "execute_result"
    }
   ],
   "source": [
    "dir(diccionario)"
   ]
  },
  {
   "cell_type": "markdown",
   "id": "1bdd19f2",
   "metadata": {},
   "source": [
    "### 1. Modificando un diccionario"
   ]
  },
  {
   "cell_type": "code",
   "execution_count": 5,
   "id": "c8f44a04",
   "metadata": {},
   "outputs": [],
   "source": [
    "diccionario = {\n",
    "    'key1': 1,\n",
    "    'key2': 2\n",
    "}"
   ]
  },
  {
   "cell_type": "code",
   "execution_count": 6,
   "id": "68b943e2",
   "metadata": {},
   "outputs": [],
   "source": [
    "diccionario.update({'key1': 10})"
   ]
  },
  {
   "cell_type": "code",
   "execution_count": 7,
   "id": "84a08a68",
   "metadata": {},
   "outputs": [
    {
     "data": {
      "text/plain": [
       "{'key1': 10, 'key2': 2}"
      ]
     },
     "execution_count": 7,
     "metadata": {},
     "output_type": "execute_result"
    }
   ],
   "source": [
    "diccionario"
   ]
  },
  {
   "cell_type": "code",
   "execution_count": 8,
   "id": "3960ea5b",
   "metadata": {},
   "outputs": [],
   "source": [
    "diccionario.update({'key3': 10})"
   ]
  },
  {
   "cell_type": "code",
   "execution_count": 9,
   "id": "9d2cf4fd",
   "metadata": {},
   "outputs": [
    {
     "data": {
      "text/plain": [
       "{'key1': 10, 'key2': 2, 'key3': 10}"
      ]
     },
     "execution_count": 9,
     "metadata": {},
     "output_type": "execute_result"
    }
   ],
   "source": [
    "diccionario"
   ]
  },
  {
   "cell_type": "code",
   "execution_count": 10,
   "id": "532be7e4",
   "metadata": {},
   "outputs": [
    {
     "data": {
      "text/plain": [
       "10"
      ]
     },
     "execution_count": 10,
     "metadata": {},
     "output_type": "execute_result"
    }
   ],
   "source": [
    "diccionario.pop('key1')"
   ]
  },
  {
   "cell_type": "code",
   "execution_count": 11,
   "id": "464a6292",
   "metadata": {},
   "outputs": [
    {
     "data": {
      "text/plain": [
       "{'key2': 2, 'key3': 10}"
      ]
     },
     "execution_count": 11,
     "metadata": {},
     "output_type": "execute_result"
    }
   ],
   "source": [
    "diccionario"
   ]
  },
  {
   "cell_type": "code",
   "execution_count": 12,
   "id": "445f4dac",
   "metadata": {},
   "outputs": [],
   "source": [
    "diccionario2 = diccionario.copy()"
   ]
  },
  {
   "cell_type": "code",
   "execution_count": 13,
   "id": "7730a1af",
   "metadata": {},
   "outputs": [
    {
     "data": {
      "text/plain": [
       "{'key2': 2, 'key3': 10}"
      ]
     },
     "execution_count": 13,
     "metadata": {},
     "output_type": "execute_result"
    }
   ],
   "source": [
    "diccionario2"
   ]
  },
  {
   "cell_type": "code",
   "execution_count": 14,
   "id": "72042c41",
   "metadata": {},
   "outputs": [],
   "source": [
    "diccionario.clear()"
   ]
  },
  {
   "cell_type": "code",
   "execution_count": 15,
   "id": "495cdd17",
   "metadata": {},
   "outputs": [
    {
     "data": {
      "text/plain": [
       "{}"
      ]
     },
     "execution_count": 15,
     "metadata": {},
     "output_type": "execute_result"
    }
   ],
   "source": [
    "diccionario"
   ]
  },
  {
   "cell_type": "markdown",
   "id": "fb181f75",
   "metadata": {},
   "source": [
    "### 2. Accediendo a los elementos del diccionario"
   ]
  },
  {
   "cell_type": "code",
   "execution_count": 16,
   "id": "a7d68703",
   "metadata": {},
   "outputs": [],
   "source": [
    "diccionario = {\n",
    "    'key1': 1,\n",
    "    'key2': 2,\n",
    "    'key3': 3\n",
    "}"
   ]
  },
  {
   "cell_type": "code",
   "execution_count": 17,
   "id": "85b1e97c",
   "metadata": {},
   "outputs": [
    {
     "data": {
      "text/plain": [
       "dict_values([1, 2, 3])"
      ]
     },
     "execution_count": 17,
     "metadata": {},
     "output_type": "execute_result"
    }
   ],
   "source": [
    "diccionario.values()"
   ]
  },
  {
   "cell_type": "code",
   "execution_count": 18,
   "id": "a192b65b",
   "metadata": {},
   "outputs": [
    {
     "data": {
      "text/plain": [
       "[1, 2, 3]"
      ]
     },
     "execution_count": 18,
     "metadata": {},
     "output_type": "execute_result"
    }
   ],
   "source": [
    "list(diccionario.values())"
   ]
  },
  {
   "cell_type": "code",
   "execution_count": 19,
   "id": "7494f097",
   "metadata": {},
   "outputs": [
    {
     "data": {
      "text/plain": [
       "dict_keys(['key1', 'key2', 'key3'])"
      ]
     },
     "execution_count": 19,
     "metadata": {},
     "output_type": "execute_result"
    }
   ],
   "source": [
    "diccionario.keys()"
   ]
  },
  {
   "cell_type": "code",
   "execution_count": 20,
   "id": "e7b389a9",
   "metadata": {},
   "outputs": [
    {
     "data": {
      "text/plain": [
       "['key1', 'key2', 'key3']"
      ]
     },
     "execution_count": 20,
     "metadata": {},
     "output_type": "execute_result"
    }
   ],
   "source": [
    "list(diccionario.keys())"
   ]
  },
  {
   "cell_type": "code",
   "execution_count": 21,
   "id": "8d175c04",
   "metadata": {},
   "outputs": [
    {
     "data": {
      "text/plain": [
       "dict_items([('key1', 1), ('key2', 2), ('key3', 3)])"
      ]
     },
     "execution_count": 21,
     "metadata": {},
     "output_type": "execute_result"
    }
   ],
   "source": [
    "diccionario.items()"
   ]
  },
  {
   "cell_type": "code",
   "execution_count": 22,
   "id": "9b6486d7",
   "metadata": {},
   "outputs": [
    {
     "name": "stdout",
     "output_type": "stream",
     "text": [
      "key1 -> 1\n",
      "key2 -> 2\n",
      "key3 -> 3\n"
     ]
    }
   ],
   "source": [
    "for clave, valor in diccionario.items():\n",
    "    print(\"{} -> {}\".format(clave, valor))"
   ]
  },
  {
   "cell_type": "code",
   "execution_count": null,
   "id": "cf051e38-8fe2-4eae-aa0e-91a3bf52c57e",
   "metadata": {},
   "outputs": [],
   "source": []
  }
 ],
 "metadata": {
  "kernelspec": {
   "display_name": "Python 3 (ipykernel)",
   "language": "python",
   "name": "python3"
  },
  "language_info": {
   "codemirror_mode": {
    "name": "ipython",
    "version": 3
   },
   "file_extension": ".py",
   "mimetype": "text/x-python",
   "name": "python",
   "nbconvert_exporter": "python",
   "pygments_lexer": "ipython3",
   "version": "3.9.18"
  }
 },
 "nbformat": 4,
 "nbformat_minor": 5
}
