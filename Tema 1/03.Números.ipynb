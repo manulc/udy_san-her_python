{
 "cells": [
  {
   "cell_type": "markdown",
   "id": "d30dcd29",
   "metadata": {},
   "source": [
    "# Números"
   ]
  },
  {
   "cell_type": "markdown",
   "id": "4bc92250",
   "metadata": {},
   "source": [
    "### 1. ¿Qué es un número en Python?"
   ]
  },
  {
   "cell_type": "markdown",
   "id": "5bdea2ed",
   "metadata": {},
   "source": [
    "En Python existen tres tipos de datos numéricos: enteros (`int`), números de punto flotante (`float`) y números complejos."
   ]
  },
  {
   "cell_type": "markdown",
   "id": "53a72948",
   "metadata": {},
   "source": [
    "### 2. Números enteros"
   ]
  },
  {
   "cell_type": "markdown",
   "id": "ee04888e",
   "metadata": {},
   "source": [
    "De manera básica los números enteros son aquellos que no tienen parte decimal. En Python los números enteros se referencia con la palabra `int`."
   ]
  },
  {
   "cell_type": "code",
   "execution_count": 1,
   "id": "a6d5e006",
   "metadata": {},
   "outputs": [],
   "source": [
    "num = 10"
   ]
  },
  {
   "cell_type": "markdown",
   "id": "c2c1634d",
   "metadata": {},
   "source": [
    "Es importante diferencia entre un número entero y una cadena de texto que representa un número entero."
   ]
  },
  {
   "cell_type": "code",
   "execution_count": 2,
   "id": "8a014030",
   "metadata": {},
   "outputs": [],
   "source": [
    "num = \"10\""
   ]
  },
  {
   "cell_type": "markdown",
   "id": "b05df5b2",
   "metadata": {},
   "source": [
    "En Pthon puede convertirse una cadena de texto que representa un número entero en un valor numérico utilizando la función `int()`"
   ]
  },
  {
   "cell_type": "code",
   "execution_count": 3,
   "id": "1fdf6b5c",
   "metadata": {},
   "outputs": [],
   "source": [
    "num = \"10\""
   ]
  },
  {
   "cell_type": "code",
   "execution_count": 4,
   "id": "97372a32",
   "metadata": {},
   "outputs": [
    {
     "data": {
      "text/plain": [
       "'10'"
      ]
     },
     "execution_count": 4,
     "metadata": {},
     "output_type": "execute_result"
    }
   ],
   "source": [
    "num"
   ]
  },
  {
   "cell_type": "code",
   "execution_count": 5,
   "id": "da229138",
   "metadata": {},
   "outputs": [],
   "source": [
    "num2 = int(num)"
   ]
  },
  {
   "cell_type": "code",
   "execution_count": 6,
   "id": "dbb3c7c6",
   "metadata": {},
   "outputs": [
    {
     "data": {
      "text/plain": [
       "10"
      ]
     },
     "execution_count": 6,
     "metadata": {},
     "output_type": "execute_result"
    }
   ],
   "source": [
    "num2"
   ]
  },
  {
   "cell_type": "markdown",
   "id": "efb59a7f",
   "metadata": {},
   "source": [
    "Cuando escribimos un número grande, solemos utilizar diferentes símbolos para separar algunos dígitos de manera que sea más facil de leer. Por ejemplo el número 1000000 solemos representarlo como 1,000,000 o como 1.000.000.\n",
    "\n",
    "En Python no puede añadirse el caracter `,` o `.` para separar los dígitos de un número grande, debe utilizarse el caracter `_`."
   ]
  },
  {
   "cell_type": "code",
   "execution_count": 7,
   "id": "b37c9805",
   "metadata": {},
   "outputs": [],
   "source": [
    "num = 1000000"
   ]
  },
  {
   "cell_type": "code",
   "execution_count": 8,
   "id": "59f95cf9-7d29-4b62-a21d-5b30b232675b",
   "metadata": {},
   "outputs": [
    {
     "data": {
      "text/plain": [
       "1000000"
      ]
     },
     "execution_count": 8,
     "metadata": {},
     "output_type": "execute_result"
    }
   ],
   "source": [
    "num"
   ]
  },
  {
   "cell_type": "code",
   "execution_count": 9,
   "id": "15a4b5bc",
   "metadata": {},
   "outputs": [],
   "source": [
    "num2 = 1_000_000"
   ]
  },
  {
   "cell_type": "code",
   "execution_count": 10,
   "id": "d3756abd",
   "metadata": {},
   "outputs": [
    {
     "data": {
      "text/plain": [
       "1000000"
      ]
     },
     "execution_count": 10,
     "metadata": {},
     "output_type": "execute_result"
    }
   ],
   "source": [
    "num2"
   ]
  },
  {
   "cell_type": "markdown",
   "id": "70e26ddd",
   "metadata": {},
   "source": [
    "Una de las cosas sorprendentes sobre los números enteros en Python es que no hay límite en el tamaño de los números que podemos definir. Se pueden definir números enteros tan grandes como la memoria de tu sistema pueda soportar."
   ]
  },
  {
   "cell_type": "code",
   "execution_count": 11,
   "id": "3f336215",
   "metadata": {},
   "outputs": [],
   "source": [
    "num = 100000000000000000000000000000000000000000000000000000000000000000000000000000000000000000000000000000000000000000000000000000000000000000000000000000000000000000000000000000000000000000000000000000000000000000000000000000000000000000000000000000000000000000000000000000000000000000000000000000000000000000000000000000000000000000000000000000000000000000000000000000000000000000000000000000000000000000000000000000000000000000000000000000000000000000000000000000000000000000000000000000000000000000000000000000"
   ]
  },
  {
   "cell_type": "markdown",
   "id": "b4fab84f",
   "metadata": {},
   "source": [
    "### Números de punto flotante"
   ]
  },
  {
   "cell_type": "markdown",
   "id": "f8bedfc6",
   "metadata": {},
   "source": [
    "De manera básica, y en contraste con los número enteros, los número de punto flotante son aquellos que tienen una parte decimal. En Python los números de putno flotante se referencian con la palabra `float`."
   ]
  },
  {
   "cell_type": "code",
   "execution_count": 12,
   "id": "ee39bb35",
   "metadata": {},
   "outputs": [],
   "source": [
    "num = 10.5"
   ]
  },
  {
   "cell_type": "code",
   "execution_count": 13,
   "id": "a0d7072d-eaf5-49ea-98c5-7123c78c266f",
   "metadata": {},
   "outputs": [
    {
     "data": {
      "text/plain": [
       "10.5"
      ]
     },
     "execution_count": 13,
     "metadata": {},
     "output_type": "execute_result"
    }
   ],
   "source": [
    "num"
   ]
  },
  {
   "cell_type": "markdown",
   "id": "a058f944",
   "metadata": {},
   "source": [
    "De igual manera que con los números enteros, en Pthon puede convertirse una cadena de texto que representa un número de punto flotante en un valor numérico utilizando la función `float()`"
   ]
  },
  {
   "cell_type": "code",
   "execution_count": 14,
   "id": "8bd50a30",
   "metadata": {},
   "outputs": [],
   "source": [
    "num = \"10.5\""
   ]
  },
  {
   "cell_type": "code",
   "execution_count": 15,
   "id": "41937455",
   "metadata": {},
   "outputs": [
    {
     "data": {
      "text/plain": [
       "'10.5'"
      ]
     },
     "execution_count": 15,
     "metadata": {},
     "output_type": "execute_result"
    }
   ],
   "source": [
    "num"
   ]
  },
  {
   "cell_type": "code",
   "execution_count": 16,
   "id": "c6962b56",
   "metadata": {},
   "outputs": [],
   "source": [
    "num2 = float(num)"
   ]
  },
  {
   "cell_type": "code",
   "execution_count": 17,
   "id": "9fa4bb1c",
   "metadata": {},
   "outputs": [
    {
     "data": {
      "text/plain": [
       "10.5"
      ]
     },
     "execution_count": 17,
     "metadata": {},
     "output_type": "execute_result"
    }
   ],
   "source": [
    "num2"
   ]
  },
  {
   "cell_type": "markdown",
   "id": "397a752d",
   "metadata": {},
   "source": [
    "Respecto a la sintaxis de los números de punto flotante, existen tres formas de representarlos en Python."
   ]
  },
  {
   "cell_type": "code",
   "execution_count": 18,
   "id": "f618cc1b",
   "metadata": {},
   "outputs": [],
   "source": [
    "num = 1000000.5"
   ]
  },
  {
   "cell_type": "code",
   "execution_count": 19,
   "id": "0e8a3d1f",
   "metadata": {},
   "outputs": [],
   "source": [
    "num2 = 1_000_000.5"
   ]
  },
  {
   "cell_type": "code",
   "execution_count": 24,
   "id": "69d21f8e",
   "metadata": {},
   "outputs": [
    {
     "data": {
      "text/plain": [
       "1000000.5"
      ]
     },
     "execution_count": 24,
     "metadata": {},
     "output_type": "execute_result"
    }
   ],
   "source": [
    "num"
   ]
  },
  {
   "cell_type": "code",
   "execution_count": 25,
   "id": "b3300910",
   "metadata": {},
   "outputs": [
    {
     "data": {
      "text/plain": [
       "1000000.5"
      ]
     },
     "execution_count": 25,
     "metadata": {},
     "output_type": "execute_result"
    }
   ],
   "source": [
    "num2"
   ]
  },
  {
   "cell_type": "code",
   "execution_count": 26,
   "id": "f6660fef",
   "metadata": {},
   "outputs": [],
   "source": [
    "num3 = 1e6"
   ]
  },
  {
   "cell_type": "code",
   "execution_count": 27,
   "id": "91cf495c",
   "metadata": {},
   "outputs": [
    {
     "data": {
      "text/plain": [
       "1000000.0"
      ]
     },
     "execution_count": 27,
     "metadata": {},
     "output_type": "execute_result"
    }
   ],
   "source": [
    "num3"
   ]
  },
  {
   "cell_type": "markdown",
   "id": "659c6834",
   "metadata": {},
   "source": [
    "Al contrario que los números enteros, los número de punto flotante si tienen un tamaño máximo en Python. Aunque el tamaño máximo depende de tu sistema, cifras cercanas o superiores a `2e400` o lo que es lo mismo 2x10<sup>400</sup> suelen superar el tamaño máximo.\n",
    "\n",
    "Cuando se alcanza el valor máximo, Python devuelve el valor especial `inf` haciendo referencia a infinito."
   ]
  },
  {
   "cell_type": "code",
   "execution_count": 28,
   "id": "9322863b",
   "metadata": {},
   "outputs": [],
   "source": [
    "num = 2e400"
   ]
  },
  {
   "cell_type": "code",
   "execution_count": 29,
   "id": "546d572b",
   "metadata": {},
   "outputs": [
    {
     "data": {
      "text/plain": [
       "inf"
      ]
     },
     "execution_count": 29,
     "metadata": {},
     "output_type": "execute_result"
    }
   ],
   "source": [
    "num"
   ]
  },
  {
   "cell_type": "code",
   "execution_count": 30,
   "id": "0f44541a",
   "metadata": {},
   "outputs": [],
   "source": [
    "num = -2e400"
   ]
  },
  {
   "cell_type": "code",
   "execution_count": 31,
   "id": "a871730b",
   "metadata": {},
   "outputs": [
    {
     "data": {
      "text/plain": [
       "-inf"
      ]
     },
     "execution_count": 31,
     "metadata": {},
     "output_type": "execute_result"
    }
   ],
   "source": [
    "num"
   ]
  },
  {
   "cell_type": "markdown",
   "id": "91d4752c",
   "metadata": {},
   "source": [
    "### Números complejos"
   ]
  },
  {
   "cell_type": "markdown",
   "id": "25f67967",
   "metadata": {},
   "source": [
    "Python es uno de los pocos lenguajes de programación que ofrece soporte integrado para los números complejos. Aunque los números complejos no suelen aparecer fuera de los dominios de la computación científica, pueden ser de mucha utilidad en dominios que utilicen técnicas estadísticas.\n",
    "\n",
    "Un número complejo esta formado por dos componentes distintos: una parte real y una parte imaginaria. Para definir un número complejo en python, se define la parte real seguida de un símbolo `+` y la parte imaginaria terminando con la letra `j`."
   ]
  },
  {
   "cell_type": "code",
   "execution_count": 32,
   "id": "484093f0",
   "metadata": {},
   "outputs": [],
   "source": [
    "num = 1 + 2j"
   ]
  },
  {
   "cell_type": "code",
   "execution_count": 33,
   "id": "511094e5",
   "metadata": {},
   "outputs": [
    {
     "data": {
      "text/plain": [
       "(1+2j)"
      ]
     },
     "execution_count": 33,
     "metadata": {},
     "output_type": "execute_result"
    }
   ],
   "source": [
    "num"
   ]
  },
  {
   "cell_type": "code",
   "execution_count": 34,
   "id": "aa3f10aa",
   "metadata": {},
   "outputs": [
    {
     "data": {
      "text/plain": [
       "1.0"
      ]
     },
     "execution_count": 34,
     "metadata": {},
     "output_type": "execute_result"
    }
   ],
   "source": [
    "num.real"
   ]
  },
  {
   "cell_type": "code",
   "execution_count": 36,
   "id": "c0de95f1",
   "metadata": {},
   "outputs": [
    {
     "data": {
      "text/plain": [
       "2.0"
      ]
     },
     "execution_count": 36,
     "metadata": {},
     "output_type": "execute_result"
    }
   ],
   "source": [
    "num.imag"
   ]
  },
  {
   "cell_type": "code",
   "execution_count": null,
   "id": "ed2ec9eb",
   "metadata": {},
   "outputs": [],
   "source": []
  }
 ],
 "metadata": {
  "kernelspec": {
   "display_name": "Python 3 (ipykernel)",
   "language": "python",
   "name": "python3"
  },
  "language_info": {
   "codemirror_mode": {
    "name": "ipython",
    "version": 3
   },
   "file_extension": ".py",
   "mimetype": "text/x-python",
   "name": "python",
   "nbconvert_exporter": "python",
   "pygments_lexer": "ipython3",
   "version": "3.9.18"
  }
 },
 "nbformat": 4,
 "nbformat_minor": 5
}
