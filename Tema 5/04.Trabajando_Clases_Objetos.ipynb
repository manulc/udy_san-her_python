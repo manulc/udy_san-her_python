{
 "cells": [
  {
   "cell_type": "markdown",
   "metadata": {},
   "source": [
    "# Trabajando con Clases y Objetos"
   ]
  },
  {
   "cell_type": "markdown",
   "metadata": {},
   "source": [
    "### 1. Definiendo una clase"
   ]
  },
  {
   "cell_type": "code",
   "execution_count": 5,
   "metadata": {},
   "outputs": [],
   "source": [
    "class Coche:\n",
    "    \"\"\"Esta clase representa un coche.\"\"\"\n",
    "\n",
    "    def __init__(self, modelo, potencia, consumo):\n",
    "        \"\"\"Inicializa los atributos de instancia.\n",
    "        \n",
    "        Argumentos posicionales:\n",
    "        modelo -- string que representa el modelo del coche.\n",
    "        potencia -- int que representa la potencia en cv.\n",
    "        consumo -- int que representa el consumo en l/100km.\n",
    "        \"\"\"\n",
    "        self.modelo = modelo\n",
    "        self.potencia = potencia\n",
    "        self.consumo = consumo\n",
    "\n",
    "    def especificaciones(self):\n",
    "        \"\"\"Muestra las especificaciones del coche.\"\"\"\n",
    "        print(\"Modelo:\", self.modelo, \"\\nPotencia: {} cv\".format(self.potencia), \"\\nConsumo: {} l/100km\".format(self.consumo))"
   ]
  },
  {
   "cell_type": "code",
   "execution_count": 3,
   "metadata": {},
   "outputs": [
    {
     "name": "stdout",
     "output_type": "stream",
     "text": [
      "Help on class Coche in module __main__:\n",
      "\n",
      "class Coche(builtins.object)\n",
      " |  Coche(modelo, potencia, consumo)\n",
      " |  \n",
      " |  Esta clase representa un coche.\n",
      " |  \n",
      " |  Methods defined here:\n",
      " |  \n",
      " |  __init__(self, modelo, potencia, consumo)\n",
      " |      Inicializa los atributos de instancia.\n",
      " |      \n",
      " |      Argumentos posicionales:\n",
      " |      modelo -- string que representa el modelo del coche.\n",
      " |      potencia -- int que representa la potencia en cv.\n",
      " |      consumo -- int que representa el consumo en l/100km.\n",
      " |  \n",
      " |  especificaciones(self)\n",
      " |      Muestra las especificaciones del coche.\n",
      " |  \n",
      " |  ----------------------------------------------------------------------\n",
      " |  Data descriptors defined here:\n",
      " |  \n",
      " |  __dict__\n",
      " |      dictionary for instance variables (if defined)\n",
      " |  \n",
      " |  __weakref__\n",
      " |      list of weak references to the object (if defined)\n",
      "\n"
     ]
    }
   ],
   "source": [
    "help(Coche)"
   ]
  },
  {
   "cell_type": "code",
   "execution_count": 6,
   "metadata": {},
   "outputs": [],
   "source": [
    "mercedes = Coche(\"mercedes c200\", 100, 7)"
   ]
  },
  {
   "cell_type": "code",
   "execution_count": 7,
   "metadata": {},
   "outputs": [
    {
     "name": "stdout",
     "output_type": "stream",
     "text": [
      "Modelo: mercedes c200 \n",
      "Potencia: 100 cv \n",
      "Consumo: 7 l/100km\n"
     ]
    }
   ],
   "source": [
    "mercedes.especificaciones()"
   ]
  },
  {
   "cell_type": "markdown",
   "metadata": {},
   "source": [
    "### 2. Atributos con valores por defecto"
   ]
  },
  {
   "cell_type": "code",
   "execution_count": 10,
   "metadata": {},
   "outputs": [],
   "source": [
    "class Coche:\n",
    "    \"\"\"Esta clase representa un coche.\"\"\"\n",
    "\n",
    "    def __init__(self, modelo, potencia, consumo):\n",
    "        \"\"\"Inicializa los atributos de instancia.\n",
    "        \n",
    "        Argumentos posicionales:\n",
    "        modelo -- string que representa el modelo del coche.\n",
    "        potencia -- int que representa la potencia en cv.\n",
    "        consumo -- int que representa el consumo en l/100km.\n",
    "        \"\"\"\n",
    "        self.modelo = modelo\n",
    "        self.potencia = potencia\n",
    "        self.consumo = consumo\n",
    "        self.km_actuales = 0\n",
    "\n",
    "    def especificaciones(self):\n",
    "        \"\"\"Muestra las especificaciones del coche.\"\"\"\n",
    "        print(\"Modelo:\", self.modelo, \"\\nPotencia: {} cv\".format(self.potencia),\n",
    "              \"\\nConsumo: {} l/100km\".format(self.consumo), \"\\nKilometros actuales:\", self.km_actuales)"
   ]
  },
  {
   "cell_type": "code",
   "execution_count": 11,
   "metadata": {},
   "outputs": [],
   "source": [
    "mercedes = Coche(\"mercedes c200\", 100, 7)"
   ]
  },
  {
   "cell_type": "code",
   "execution_count": 12,
   "metadata": {},
   "outputs": [
    {
     "name": "stdout",
     "output_type": "stream",
     "text": [
      "Modelo: mercedes c200 \n",
      "Potencia: 100 cv \n",
      "Consumo: 7 l/100km \n",
      "Kilometros actuales: 0\n"
     ]
    }
   ],
   "source": [
    "mercedes.especificaciones()"
   ]
  },
  {
   "cell_type": "markdown",
   "metadata": {},
   "source": [
    "### 3. Modificando los valores de los atributos de un objeto"
   ]
  },
  {
   "cell_type": "markdown",
   "metadata": {},
   "source": [
    "La manera más sencilla de modificar el valor de un atributo de un objeto es utilizando la sintaxis: \n",
    "```\n",
    "<objeto>.<atributo> = <nuevo_valor>\n",
    "```"
   ]
  },
  {
   "cell_type": "code",
   "execution_count": 14,
   "metadata": {},
   "outputs": [],
   "source": [
    "mercedes.km_actuales = 200"
   ]
  },
  {
   "cell_type": "code",
   "execution_count": 15,
   "metadata": {},
   "outputs": [
    {
     "name": "stdout",
     "output_type": "stream",
     "text": [
      "Modelo: mercedes c200 \n",
      "Potencia: 100 cv \n",
      "Consumo: 7 l/100km \n",
      "Kilometros actuales: 200\n"
     ]
    }
   ],
   "source": [
    "mercedes.especificaciones()"
   ]
  },
  {
   "cell_type": "markdown",
   "metadata": {},
   "source": [
    "Por otro lado, existe una práctica mejor a la hora de modificar los atributos de la clase que consiste en hacerlo a través de un método especialmente creado para ello.\n",
    "\n",
    "Esto nos permite realizar operaciones adicionales dentro de nuestro objeto siempre que se recibe un nuevo valor de un atributo."
   ]
  },
  {
   "cell_type": "code",
   "execution_count": 21,
   "metadata": {},
   "outputs": [],
   "source": [
    "class Coche:\n",
    "    \"\"\"Esta clase representa un coche.\"\"\"\n",
    "\n",
    "    def __init__(self, modelo, potencia, consumo):\n",
    "        \"\"\"Inicializa los atributos de instancia.\n",
    "        \n",
    "        Argumentos posicionales:\n",
    "        modelo -- string que representa el modelo del coche.\n",
    "        potencia -- int que representa la potencia en cv.\n",
    "        consumo -- int que representa el consumo en l/100km.\n",
    "        \"\"\"\n",
    "        # Nota: El caracter '_' delante del nombre del atributo es una convención en Python para indicar que el atributo es privado.\n",
    "        self._modelo = modelo\n",
    "        self._potencia = potencia\n",
    "        self._consumo = consumo\n",
    "        self._km_actuales = 0\n",
    "\n",
    "    def especificaciones(self):\n",
    "        \"\"\"Muestra las especificaciones del coche.\"\"\"\n",
    "        print(\"Modelo:\", self._modelo, \"\\nPotencia: {} cv\".format(self._potencia),\n",
    "              \"\\nConsumo: {} l/100km\".format(self._consumo), \"\\nKilometros actuales:\", self._km_actuales)\n",
    "\n",
    "    def actualizar_kilometros(self, kilometros):\n",
    "        \"\"\"Actualiza los kilometros del coche.\"\"\"\n",
    "        if kilometros > self._km_actuales:\n",
    "            self._km_actuales = kilometros\n",
    "        else:\n",
    "            print(\"ERROR: No se puede establecer un número de kilometros inferior al actual\")"
   ]
  },
  {
   "cell_type": "code",
   "execution_count": 22,
   "metadata": {},
   "outputs": [],
   "source": [
    "mercedes = Coche(\"mercedes c200\", 100, 7)"
   ]
  },
  {
   "cell_type": "code",
   "execution_count": 23,
   "metadata": {},
   "outputs": [
    {
     "name": "stdout",
     "output_type": "stream",
     "text": [
      "Modelo: mercedes c200 \n",
      "Potencia: 100 cv \n",
      "Consumo: 7 l/100km \n",
      "Kilometros actuales: 0\n"
     ]
    }
   ],
   "source": [
    "mercedes.especificaciones()"
   ]
  },
  {
   "cell_type": "code",
   "execution_count": 24,
   "metadata": {},
   "outputs": [],
   "source": [
    "mercedes.actualizar_kilometros(1000)"
   ]
  },
  {
   "cell_type": "code",
   "execution_count": 25,
   "metadata": {},
   "outputs": [
    {
     "name": "stdout",
     "output_type": "stream",
     "text": [
      "ERROR: No se puede establecer un número de kilometros inferior al actual\n"
     ]
    }
   ],
   "source": [
    "mercedes.actualizar_kilometros(10)"
   ]
  },
  {
   "cell_type": "markdown",
   "metadata": {},
   "source": [
    "### 4. Extendiendo la funcionalidad de nuestra clase"
   ]
  },
  {
   "cell_type": "code",
   "execution_count": 27,
   "metadata": {},
   "outputs": [],
   "source": [
    "class Coche:\n",
    "    \"\"\"Esta clase representa un coche.\"\"\"\n",
    "\n",
    "    def __init__(self, modelo, potencia, consumo):\n",
    "        \"\"\"Inicializa los atributos de instancia.\n",
    "        \n",
    "        Argumentos posicionales:\n",
    "        modelo -- string que representa el modelo del coche.\n",
    "        potencia -- int que representa la potencia en cv.\n",
    "        consumo -- int que representa el consumo en l/100km.\n",
    "        \"\"\"\n",
    "        # Nota: El caracter '_' delante del nombre del atributo es una convención en Python para indicar que el atributo es privado.\n",
    "        self._modelo = modelo\n",
    "        self._potencia = potencia\n",
    "        self._consumo = consumo\n",
    "        self._km_actuales = 0\n",
    "\n",
    "    def especificaciones(self):\n",
    "        \"\"\"Muestra las especificaciones del coche.\"\"\"\n",
    "        print(\"Modelo:\", self._modelo, \"\\nPotencia: {} cv\".format(self._potencia),\n",
    "              \"\\nConsumo: {} l/100km\".format(self._consumo), \"\\nKilometros actuales:\", self._km_actuales)\n",
    "\n",
    "    def actualizar_kilometros(self, kilometros):\n",
    "        \"\"\"Actualiza los kilometros del coche.\"\"\"\n",
    "        if kilometros > self._km_actuales:\n",
    "            self._km_actuales = kilometros\n",
    "        else:\n",
    "            print(\"ERROR: No se puede establecer un número de kilometros inferior al actual\")\n",
    "\n",
    "    def consumo_total(self):\n",
    "        \"\"\"Muestra el consumo total del coche desde el kilometro 0.\"\"\"\n",
    "        consumo_total = (self._km_actuales / 100) * self._consumo\n",
    "        print(\"El consumo total es de {} litros\".format(consumo_total))"
   ]
  },
  {
   "cell_type": "code",
   "execution_count": 28,
   "metadata": {},
   "outputs": [],
   "source": [
    "mercedes = Coche(\"mercedes c200\", 100, 7)"
   ]
  },
  {
   "cell_type": "code",
   "execution_count": 29,
   "metadata": {},
   "outputs": [
    {
     "name": "stdout",
     "output_type": "stream",
     "text": [
      "El consumo total es de 0.0 litros\n"
     ]
    }
   ],
   "source": [
    "mercedes.consumo_total()"
   ]
  },
  {
   "cell_type": "code",
   "execution_count": 30,
   "metadata": {},
   "outputs": [
    {
     "name": "stdout",
     "output_type": "stream",
     "text": [
      "Modelo: mercedes c200 \n",
      "Potencia: 100 cv \n",
      "Consumo: 7 l/100km \n",
      "Kilometros actuales: 0\n"
     ]
    }
   ],
   "source": [
    "mercedes.especificaciones()"
   ]
  },
  {
   "cell_type": "code",
   "execution_count": 31,
   "metadata": {},
   "outputs": [],
   "source": [
    "mercedes.actualizar_kilometros(100)"
   ]
  },
  {
   "cell_type": "code",
   "execution_count": 32,
   "metadata": {},
   "outputs": [
    {
     "name": "stdout",
     "output_type": "stream",
     "text": [
      "El consumo total es de 7.0 litros\n"
     ]
    }
   ],
   "source": [
    "mercedes.consumo_total()"
   ]
  },
  {
   "cell_type": "code",
   "execution_count": 33,
   "metadata": {},
   "outputs": [],
   "source": [
    "mercedes.actualizar_kilometros(153_000)"
   ]
  },
  {
   "cell_type": "code",
   "execution_count": 34,
   "metadata": {},
   "outputs": [
    {
     "name": "stdout",
     "output_type": "stream",
     "text": [
      "El consumo total es de 10710.0 litros\n"
     ]
    }
   ],
   "source": [
    "mercedes.consumo_total()"
   ]
  },
  {
   "cell_type": "code",
   "execution_count": null,
   "metadata": {},
   "outputs": [],
   "source": []
  }
 ],
 "metadata": {
  "kernelspec": {
   "display_name": "Python 3 (ipykernel)",
   "language": "python",
   "name": "python3"
  },
  "language_info": {
   "codemirror_mode": {
    "name": "ipython",
    "version": 3
   },
   "file_extension": ".py",
   "mimetype": "text/x-python",
   "name": "python",
   "nbconvert_exporter": "python",
   "pygments_lexer": "ipython3",
   "version": "3.9.18"
  }
 },
 "nbformat": 4,
 "nbformat_minor": 4
}
