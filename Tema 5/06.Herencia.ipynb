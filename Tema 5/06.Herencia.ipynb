{
 "cells": [
  {
   "cell_type": "markdown",
   "metadata": {},
   "source": [
    "# Herencia en Python 3"
   ]
  },
  {
   "cell_type": "markdown",
   "metadata": {},
   "source": [
    "### 1. ¿Qué es la herencia en Python 3?"
   ]
  },
  {
   "cell_type": "markdown",
   "metadata": {},
   "source": [
    "La herencia es el mecanismo que se utiliza para crear jerarquías de clases relacionadas. Estas clases relacionadas compartirán una interfaz común que se definirá en la clase base. Las clases derivadas de la clase base pueden especializar la interfaz proporcionando una implementación particular cuando corresponda."
   ]
  },
  {
   "cell_type": "code",
   "execution_count": 10,
   "metadata": {},
   "outputs": [],
   "source": [
    "class Coche():\n",
    "    \"\"\"Esta clase representa un coche.\"\"\"\n",
    "    \n",
    "    def __init__(self, modelo, potencia, consumo):\n",
    "        \"\"\"Inicializa los atributos de instancia.\n",
    "        \n",
    "        Argumentos posicionales:\n",
    "        modelo -- string que representa el modelo del coche\n",
    "        potencia -- int que representa la potencia en cv\n",
    "        consumo -- int que representa el consumo en litros/100km\n",
    "        \"\"\"\n",
    "        self._modelo = modelo\n",
    "        self._potencia = potencia\n",
    "        self._consumo = consumo\n",
    "        self._km_actuales = 0\n",
    "        \n",
    "    def especificaciones(self):\n",
    "        \"\"\"Muestra las especificaciones del coche.\"\"\"\n",
    "        print(\"Modelo:\", self._modelo, \n",
    "              \"\\nPotencia: {} cv\".format(self._potencia), \n",
    "              \"\\nConsumo: {} l/100km\".format(self._consumo),\n",
    "              \"\\nKilometros actuales:\", self._km_actuales)\n",
    "    \n",
    "    @property\n",
    "    def kilometros(self):\n",
    "        return self._km_actuales\n",
    "        \n",
    "    @kilometros.setter\n",
    "    def kilometros(self, kilometros):\n",
    "        \"\"\"Actualiza los kilometros actuales del coche.\"\"\"\n",
    "        if kilometros > self._km_actuales:\n",
    "            self._km_actuales = kilometros\n",
    "        else:\n",
    "            print(\"ERROR: No se puede establecer un valor de km inferior al actual\")     \n",
    "        \n",
    "    def consumo_total(self):\n",
    "        \"\"\"Muestra el consumo total del coche desde el kilometro 0.\"\"\"        \n",
    "        consumo_total = (self._km_actuales / 100) * self._consumo\n",
    "        print(\"El consumo total es de {} litros\".format(consumo_total))"
   ]
  },
  {
   "cell_type": "markdown",
   "metadata": {},
   "source": [
    "**¿Qué sucede si quiero representar un coche electrico?**"
   ]
  },
  {
   "cell_type": "code",
   "execution_count": 11,
   "metadata": {},
   "outputs": [],
   "source": [
    "class Coche():\n",
    "    \"\"\"Esta clase representa un coche.\"\"\"\n",
    "    \n",
    "    def __init__(self, modelo, potencia, consumo):\n",
    "        \"\"\"Inicializa los atributos de instancia.\n",
    "        \n",
    "        Argumentos posicionales:\n",
    "        modelo -- string que representa el modelo del coche\n",
    "        potencia -- int que representa la potencia en cv\n",
    "        consumo -- int que representa el consumo en litros/100km\n",
    "        \"\"\"\n",
    "        self._modelo = modelo\n",
    "        self._potencia = potencia\n",
    "        self._consumo = consumo\n",
    "        self._km_actuales = 0\n",
    "        self._combustible = \"l/100km\"\n",
    "        \n",
    "    def especificaciones(self):\n",
    "        \"\"\"Muestra las especificaciones del coche.\"\"\"\n",
    "        print(\"Modelo:\", self._modelo, \n",
    "              \"\\nPotencia: {} cv\".format(self._potencia), \n",
    "              \"\\nConsumo: {} {}\".format(self._consumo, self._combustible),\n",
    "              \"\\nKilometros actuales:\", self._km_actuales)\n",
    "    \n",
    "    @property\n",
    "    def kilometros(self):\n",
    "        return self._km_actuales\n",
    "        \n",
    "    @kilometros.setter\n",
    "    def kilometros(self, kilometros):\n",
    "        \"\"\"Actualiza los kilometros actuales del coche.\"\"\"\n",
    "        if kilometros > self._km_actuales:\n",
    "            self._km_actuales = kilometros\n",
    "        else:\n",
    "            print(\"ERROR: No se puede establecer un valor de km inferior al actual\")     \n",
    "        \n",
    "    def consumo_total(self):\n",
    "        \"\"\"Muestra el consumo total del coche desde el kilometro 0.\"\"\"        \n",
    "        consumo_total = (self._km_actuales / 100) * self._consumo\n",
    "        print(\"El consumo total es de {} litros\".format(consumo_total))"
   ]
  },
  {
   "cell_type": "code",
   "execution_count": 28,
   "metadata": {},
   "outputs": [],
   "source": [
    "tesla = Coche(\"Tesla model 3\", 300, 15) # consumo: 15 KWh/100km"
   ]
  },
  {
   "cell_type": "code",
   "execution_count": 29,
   "metadata": {},
   "outputs": [
    {
     "name": "stdout",
     "output_type": "stream",
     "text": [
      "Modelo: Tesla model 3 \n",
      "Potencia: 300 cv \n",
      "Consumo: 15 l/100km \n",
      "Kilometros actuales: 0\n"
     ]
    }
   ],
   "source": [
    "tesla.especificaciones()"
   ]
  },
  {
   "cell_type": "markdown",
   "metadata": {},
   "source": [
    "En este punto podría crear un metodo _setter_ que me permitiese modificar el valor del combustible, sin embargo, esto conduciría a una clase muy compleja y con mucho código. Este tipo de problemas es mejor resolverlos utilizando herencia."
   ]
  },
  {
   "cell_type": "code",
   "execution_count": 14,
   "metadata": {},
   "outputs": [],
   "source": [
    "class CocheElectrico(Coche):\n",
    "    \"\"\"Esta clase representa un coche eléctrico.\"\"\"\n",
    "\n",
    "    def __init__(self, modelo, potencia, consumo):\n",
    "        \"\"\"Inicializa los atributos de la clase padre.\"\"\"\n",
    "        super().__init__(modelo, potencia, consumo)\n",
    "        self._combustible = \"kwh/100km\""
   ]
  },
  {
   "cell_type": "code",
   "execution_count": 26,
   "metadata": {},
   "outputs": [],
   "source": [
    "tesla = Coche(\"Tesla model 3\", 300, 15)"
   ]
  },
  {
   "cell_type": "code",
   "execution_count": 27,
   "metadata": {},
   "outputs": [
    {
     "name": "stdout",
     "output_type": "stream",
     "text": [
      "Modelo: Tesla model 3 \n",
      "Potencia: 300 cv \n",
      "Consumo: 15 l/100km \n",
      "Kilometros actuales: 0\n"
     ]
    }
   ],
   "source": [
    "tesla.especificaciones()"
   ]
  },
  {
   "cell_type": "markdown",
   "metadata": {},
   "source": [
    "### 2. Definición de atributos y métodos propios en la clase hija"
   ]
  },
  {
   "cell_type": "markdown",
   "metadata": {},
   "source": [
    "Otra de las cosas que podemos hacer es extender el comportamiento de la clase padre añadiendo nuevos métodos y atributos en la clase hija."
   ]
  },
  {
   "cell_type": "code",
   "execution_count": 36,
   "metadata": {},
   "outputs": [],
   "source": [
    "class CocheElectrico(Coche):\n",
    "    \"\"\"Esta clase representa un coche eléctrico.\"\"\"\n",
    "\n",
    "    def __init__(self, modelo, potencia, consumo, capacidad_bateria):\n",
    "        \"\"\"Inicializa los atributos de la clase padre.\"\"\"\n",
    "        super().__init__(modelo, potencia, consumo)\n",
    "        self._combustible = \"KWh/100km\"\n",
    "        self._capacidad_bateria = capacidad_bateria\n",
    "\n",
    "    def detalles_bateria(self):\n",
    "        \"\"\"Muestra los detalles de la batería del coche eléctrico.\"\"\"\n",
    "        print(\"El tamaño de la batería es: {} KWh\".format(self._capacidad_bateria))"
   ]
  },
  {
   "cell_type": "code",
   "execution_count": 37,
   "metadata": {},
   "outputs": [],
   "source": [
    "tesla = CocheElectrico(\"Tesla model 3\", 300, 15, 50)"
   ]
  },
  {
   "cell_type": "code",
   "execution_count": 38,
   "metadata": {},
   "outputs": [
    {
     "name": "stdout",
     "output_type": "stream",
     "text": [
      "Modelo: Tesla model 3 \n",
      "Potencia: 300 cv \n",
      "Consumo: 15 KWh/100km \n",
      "Kilometros actuales: 0\n"
     ]
    }
   ],
   "source": [
    "tesla.especificaciones()"
   ]
  },
  {
   "cell_type": "code",
   "execution_count": 39,
   "metadata": {},
   "outputs": [
    {
     "name": "stdout",
     "output_type": "stream",
     "text": [
      "El tamaño de la batería es: 50 KWh\n"
     ]
    }
   ],
   "source": [
    "tesla.detalles_bateria()"
   ]
  },
  {
   "cell_type": "markdown",
   "metadata": {},
   "source": [
    "### 3. Sobreescribir métodos de la clase padre"
   ]
  },
  {
   "cell_type": "markdown",
   "metadata": {},
   "source": [
    "En algunas ocasiones, es posible que alguno de los métodos de la clase padre no encaje bien con la clase hija que se ha definido. En estos casos, podemos sobreescribir el método de la clase padre dentro de la clase hija."
   ]
  },
  {
   "cell_type": "code",
   "execution_count": 30,
   "metadata": {},
   "outputs": [],
   "source": [
    "tesla.kilometros = 100"
   ]
  },
  {
   "cell_type": "code",
   "execution_count": 31,
   "metadata": {},
   "outputs": [
    {
     "name": "stdout",
     "output_type": "stream",
     "text": [
      "El consumo total es de 15.0 litros\n"
     ]
    }
   ],
   "source": [
    "tesla.consumo_total()"
   ]
  },
  {
   "cell_type": "code",
   "execution_count": 40,
   "metadata": {},
   "outputs": [],
   "source": [
    "class CocheElectrico(Coche):\n",
    "    \"\"\"Esta clase representa un coche eléctrico.\"\"\"\n",
    "\n",
    "    def __init__(self, modelo, potencia, consumo, capacidad_bateria):\n",
    "        \"\"\"Inicializa los atributos de la clase padre.\"\"\"\n",
    "        super().__init__(modelo, potencia, consumo)\n",
    "        self._combustible = \"KWh/100km\"\n",
    "        self._capacidad_bateria = capacidad_bateria\n",
    "\n",
    "    def detalles_bateria(self):\n",
    "        \"\"\"Muestra los detalles de la batería del coche eléctrico.\"\"\"\n",
    "        print(\"El tamaño de la batería es: {} KWh\".format(self._capacidad_bateria))\n",
    "\n",
    "    def consumo_total(self):\n",
    "        \"\"\"Muestra el consumo total del coche desde el kilometro 0.\"\"\"        \n",
    "        consumo_total = (self._km_actuales / 100) * self._consumo\n",
    "        print(\"El consumo total es de {} KWh\".format(consumo_total))"
   ]
  },
  {
   "cell_type": "code",
   "execution_count": 41,
   "metadata": {},
   "outputs": [],
   "source": [
    "tesla = CocheElectrico(\"Tesla model 3\", 300, 15, 50)"
   ]
  },
  {
   "cell_type": "code",
   "execution_count": 42,
   "metadata": {},
   "outputs": [],
   "source": [
    "tesla.kilometros = 100"
   ]
  },
  {
   "cell_type": "code",
   "execution_count": 43,
   "metadata": {},
   "outputs": [
    {
     "name": "stdout",
     "output_type": "stream",
     "text": [
      "El consumo total es de 15.0 KWh\n"
     ]
    }
   ],
   "source": [
    "tesla.consumo_total()"
   ]
  },
  {
   "cell_type": "markdown",
   "metadata": {},
   "source": [
    "### 4. Objetos dentro de una clase"
   ]
  },
  {
   "cell_type": "markdown",
   "metadata": {},
   "source": [
    "Es posble que en algunos casos de uso, determinadas propiedades de una clase tenga suficiente entidad como para convertirse en una clase propia. En estos casos, podemos asginar un objeto de esta segunda a clase a un atributo de la primera."
   ]
  },
  {
   "cell_type": "code",
   "execution_count": 53,
   "metadata": {},
   "outputs": [],
   "source": [
    "class Bateria:\n",
    "    \"\"\"Esta clase representa una batería de un coche eléctrico.\"\"\"\n",
    "\n",
    "    def __init__(self, capacidad, tipo_pila, num_pilas, peso):\n",
    "        self._capacidad = capacidad\n",
    "        self._tipo_pila = tipo_pila\n",
    "        self._num_pilas = num_pilas\n",
    "        self._peso = peso\n",
    "\n",
    "    def especificaciones(self):\n",
    "        print(\"Capacidad: {} KWh\".format(self._capacidad), \"\\nTipo de pila:\", self._tipo_pila,\n",
    "              \"\\nNúmero de pilas:\", self._num_pilas, \"\\nPeso: {} Kg\".format(self._peso))"
   ]
  },
  {
   "cell_type": "code",
   "execution_count": 54,
   "metadata": {},
   "outputs": [],
   "source": [
    "bateria_tesla_modelS = Bateria(80, 2170, 203_136, 480)"
   ]
  },
  {
   "cell_type": "code",
   "execution_count": 55,
   "metadata": {},
   "outputs": [
    {
     "name": "stdout",
     "output_type": "stream",
     "text": [
      "Capacidad: 80 KWh \n",
      "Tipo de pila: 2170 \n",
      "Número de pilas: 203136 \n",
      "Peso: 480 Kg\n"
     ]
    }
   ],
   "source": [
    "bateria_tesla_modelS.especificaciones()"
   ]
  },
  {
   "cell_type": "code",
   "execution_count": 56,
   "metadata": {},
   "outputs": [],
   "source": [
    "class CocheElectrico(Coche):\n",
    "    \"\"\"Esta clase representa un coche eléctrico.\"\"\"\n",
    "\n",
    "    def __init__(self, modelo, potencia, consumo, bateria):\n",
    "        \"\"\"Inicializa los atributos de la clase padre.\"\"\"\n",
    "        super().__init__(modelo, potencia, consumo)\n",
    "        self._combustible = \"KWh/100km\"\n",
    "        self._bateria = bateria\n",
    "\n",
    "    def detalles_bateria(self):\n",
    "        \"\"\"Muestra los detalles de la batería del coche eléctrico.\"\"\"\n",
    "        self._bateria.especificaciones()\n",
    "\n",
    "    def consumo_total(self):\n",
    "        \"\"\"Muestra el consumo total del coche desde el kilometro 0.\"\"\"        \n",
    "        consumo_total = (self._km_actuales / 100) * self._consumo\n",
    "        print(\"El consumo total es de {} KWh\".format(consumo_total))"
   ]
  },
  {
   "cell_type": "code",
   "execution_count": 57,
   "metadata": {},
   "outputs": [],
   "source": [
    "tesla = CocheElectrico(\"tesla model S\", 450, 20, bateria_tesla_modelS) "
   ]
  },
  {
   "cell_type": "code",
   "execution_count": 58,
   "metadata": {},
   "outputs": [
    {
     "name": "stdout",
     "output_type": "stream",
     "text": [
      "Capacidad: 80 KWh \n",
      "Tipo de pila: 2170 \n",
      "Número de pilas: 203136 \n",
      "Peso: 480 Kg\n"
     ]
    }
   ],
   "source": [
    "tesla.detalles_bateria()"
   ]
  }
 ],
 "metadata": {
  "kernelspec": {
   "display_name": "Python 3 (ipykernel)",
   "language": "python",
   "name": "python3"
  },
  "language_info": {
   "codemirror_mode": {
    "name": "ipython",
    "version": 3
   },
   "file_extension": ".py",
   "mimetype": "text/x-python",
   "name": "python",
   "nbconvert_exporter": "python",
   "pygments_lexer": "ipython3",
   "version": "3.9.18"
  }
 },
 "nbformat": 4,
 "nbformat_minor": 4
}
