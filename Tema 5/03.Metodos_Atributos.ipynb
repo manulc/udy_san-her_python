{
 "cells": [
  {
   "cell_type": "markdown",
   "metadata": {},
   "source": [
    "# Métodos y Atributos"
   ]
  },
  {
   "cell_type": "markdown",
   "metadata": {},
   "source": [
    "### 1. ¿Qué son los métodos?"
   ]
  },
  {
   "cell_type": "markdown",
   "metadata": {},
   "source": [
    "La primera construcción que vamos a presentar que puede definirse dentro del cuerpo de la clase son las funciones. **Cuando una función forma parte de una clase se le denomina método**. \n",
    "\n",
    "Todo lo que hemos visto sobre las funciones se aplica también a los métodos, la única diferencia práctica por ahora es la forma en que se invocan los métodos. "
   ]
  },
  {
   "cell_type": "code",
   "execution_count": 34,
   "metadata": {},
   "outputs": [],
   "source": [
    "class Coche:\n",
    "    def velocidad_maxima():\n",
    "        \"\"\"Este método muestra la velocidad máxima del coche.\"\"\"\n",
    "        print(\"Velocidad máxima: ???\")"
   ]
  },
  {
   "cell_type": "code",
   "execution_count": 2,
   "metadata": {},
   "outputs": [],
   "source": [
    "coche1 = Coche()"
   ]
  },
  {
   "cell_type": "markdown",
   "metadata": {},
   "source": [
    "### 2. Parámetro `self`"
   ]
  },
  {
   "cell_type": "markdown",
   "metadata": {},
   "source": [
    "Cuando definimos métodos en una clase es necesario proporcionarles el parámetro `self`, que debe situarse en primer lugar antes de los otros parámetros. El parámetro `self` es una referencia a la propia clase, y se utiliza para poder acceder a diferentes componentes de la misma."
   ]
  },
  {
   "cell_type": "code",
   "execution_count": 35,
   "metadata": {},
   "outputs": [],
   "source": [
    "class Coche:\n",
    "    def velocidad_maxima(self):\n",
    "        \"\"\"Este método muestra la velocidad máxima del coche.\"\"\"\n",
    "        print(\"Velocidad máxima: ???\")"
   ]
  },
  {
   "cell_type": "markdown",
   "metadata": {},
   "source": [
    "### 3. Acceso a los métodos de una clase"
   ]
  },
  {
   "cell_type": "markdown",
   "metadata": {},
   "source": [
    "Cuando instanciamos un objeto a partir de la clase, podemos acceder a los métodos con la siguiente sintáxis: \n",
    "```\n",
    "<nombre_objeto>.<nombre_metodo>([<argumentos>])\n",
    "```"
   ]
  },
  {
   "cell_type": "code",
   "execution_count": 36,
   "metadata": {},
   "outputs": [],
   "source": [
    "class Coche:\n",
    "    def velocidad_maxima(self):\n",
    "        \"\"\"Este método muestra la velocidad máxima del coche.\"\"\"\n",
    "        print(\"Velocidad máxima: ???\")"
   ]
  },
  {
   "cell_type": "code",
   "execution_count": 11,
   "metadata": {},
   "outputs": [],
   "source": [
    "coche1 = Coche()"
   ]
  },
  {
   "cell_type": "code",
   "execution_count": 12,
   "metadata": {},
   "outputs": [
    {
     "name": "stdout",
     "output_type": "stream",
     "text": [
      "Velocidad máxima: ???\n"
     ]
    }
   ],
   "source": [
    "coche1.velocidad_maxima()"
   ]
  },
  {
   "cell_type": "markdown",
   "metadata": {},
   "source": [
    "### 4. Atributos"
   ]
  },
  {
   "cell_type": "markdown",
   "metadata": {},
   "source": [
    "Otra de las cosas que podemos definir en una clase son variables. **Cuando se define una variable dentro de una clase se denomina atributo**.\n",
    "\n",
    "A la hora de definir atributos en una clase, podemos definirlos de dos tipos: **Atributos de clase** y **Atributos de instancia**."
   ]
  },
  {
   "cell_type": "markdown",
   "metadata": {},
   "source": [
    "* Un **atributo de clase** es una variable que pertenece a la clase y va a estar compartida entre todos los objetos que se instancien a partir de esa clase. Podemos acceder al valor de estos atributos con la sintaxis:\n",
    "```\n",
    "<nombre_objeto>.<nombre_atributo_clase>\n",
    "```"
   ]
  },
  {
   "cell_type": "code",
   "execution_count": 37,
   "metadata": {},
   "outputs": [],
   "source": [
    "class Coche:\n",
    "    atributo_clase = 150\n",
    "    \n",
    "    def velocidad_maxima(self):\n",
    "        \"\"\"Este método muestra la velocidad máxima del coche.\"\"\"\n",
    "        print(\"Velocidad máxima:\", self.atributo_clase)"
   ]
  },
  {
   "cell_type": "code",
   "execution_count": 20,
   "metadata": {},
   "outputs": [],
   "source": [
    "renault = Coche()"
   ]
  },
  {
   "cell_type": "code",
   "execution_count": 21,
   "metadata": {},
   "outputs": [
    {
     "name": "stdout",
     "output_type": "stream",
     "text": [
      "Velocidad máxima: 150\n"
     ]
    }
   ],
   "source": [
    "renault.velocidad_maxima()"
   ]
  },
  {
   "cell_type": "code",
   "execution_count": 22,
   "metadata": {},
   "outputs": [
    {
     "data": {
      "text/plain": [
       "150"
      ]
     },
     "execution_count": 22,
     "metadata": {},
     "output_type": "execute_result"
    }
   ],
   "source": [
    "renault.atributo_clase"
   ]
  },
  {
   "cell_type": "code",
   "execution_count": 23,
   "metadata": {},
   "outputs": [],
   "source": [
    "bmv = Coche()"
   ]
  },
  {
   "cell_type": "code",
   "execution_count": 24,
   "metadata": {},
   "outputs": [
    {
     "name": "stdout",
     "output_type": "stream",
     "text": [
      "Velocidad máxima: 150\n"
     ]
    }
   ],
   "source": [
    "bmv.velocidad_maxima()"
   ]
  },
  {
   "cell_type": "code",
   "execution_count": 25,
   "metadata": {},
   "outputs": [
    {
     "data": {
      "text/plain": [
       "150"
      ]
     },
     "execution_count": 25,
     "metadata": {},
     "output_type": "execute_result"
    }
   ],
   "source": [
    "bmv.atributo_clase"
   ]
  },
  {
   "cell_type": "markdown",
   "metadata": {},
   "source": [
    "* Un **atributo de instancia** es una variable que pertenece a un objeto en particular y que solo puede ser accedida en el contexto de ese objeto. Estas variables deben definirse en un método especial denominado constructor y representado por la sintaxis `__init__()`. Podemos acceder al valor de estos atributos con la sintaxis:\n",
    "```\n",
    "<nombre_objeto>.<nombre_atributo_instancia>\n",
    "```"
   ]
  },
  {
   "cell_type": "markdown",
   "metadata": {},
   "source": [
    "### 4. Método `__init__()`"
   ]
  },
  {
   "cell_type": "markdown",
   "metadata": {},
   "source": [
    "El método `__init__()` es un método especial que Python ejecuta automáticamente cada vez que creamos una nueva instancia basada en esa clase. Este método tiene dos guiones bajos iniciales y dos guiones bajos finales, una convención que ayuda a evitar que los nombres de métodos por defecto de Python entren en conflicto con los definidos por el usuario.\n",
    "\n",
    "El método `__init__()` se denomina constructor de la clase debido a que asigna valores específicos del objeto que se esta instanciando."
   ]
  },
  {
   "cell_type": "code",
   "execution_count": 44,
   "metadata": {},
   "outputs": [],
   "source": [
    "class Coche:\n",
    "    def __init__(self, vel_max, consumo_medio):\n",
    "        self.vel_max = vel_max\n",
    "        self.con_medio = consumo_medio\n",
    "    \n",
    "    def velocidad_maxima(self):\n",
    "        \"\"\"Este método muestra la velocidad máxima del coche.\"\"\"\n",
    "        print(\"Velocidad máxima:\", self.vel_max)\n",
    "\n",
    "    def consumo_medio(self):\n",
    "        \"\"\"Método que muestra el consumo medio del coche.\"\"\"\n",
    "        print(\"El consumo medio es:\", self.con_medio)"
   ]
  },
  {
   "cell_type": "code",
   "execution_count": 45,
   "metadata": {},
   "outputs": [],
   "source": [
    "renault = Coche(200, 7)"
   ]
  },
  {
   "cell_type": "code",
   "execution_count": 46,
   "metadata": {},
   "outputs": [
    {
     "name": "stdout",
     "output_type": "stream",
     "text": [
      "Velocidad máxima: 200\n"
     ]
    }
   ],
   "source": [
    "renault.velocidad_maxima()"
   ]
  },
  {
   "cell_type": "code",
   "execution_count": 47,
   "metadata": {},
   "outputs": [
    {
     "name": "stdout",
     "output_type": "stream",
     "text": [
      "El consumo medio es: 7\n"
     ]
    }
   ],
   "source": [
    "renault.consumo_medio()"
   ]
  },
  {
   "cell_type": "code",
   "execution_count": 49,
   "metadata": {},
   "outputs": [],
   "source": [
    "bmv = Coche(250, 10)"
   ]
  },
  {
   "cell_type": "code",
   "execution_count": 32,
   "metadata": {},
   "outputs": [
    {
     "name": "stdout",
     "output_type": "stream",
     "text": [
      "Velocidad máxima: 250\n"
     ]
    }
   ],
   "source": [
    "bmv.velocidad_maxima()"
   ]
  },
  {
   "cell_type": "code",
   "execution_count": 50,
   "metadata": {},
   "outputs": [
    {
     "name": "stdout",
     "output_type": "stream",
     "text": [
      "El consumo medio es: 10\n"
     ]
    }
   ],
   "source": [
    "bmv.consumo_medio()"
   ]
  },
  {
   "cell_type": "code",
   "execution_count": 33,
   "metadata": {},
   "outputs": [
    {
     "name": "stdout",
     "output_type": "stream",
     "text": [
      "Velocidad máxima: 200\n"
     ]
    }
   ],
   "source": [
    "renault.velocidad_maxima()"
   ]
  }
 ],
 "metadata": {
  "kernelspec": {
   "display_name": "Python 3 (ipykernel)",
   "language": "python",
   "name": "python3"
  },
  "language_info": {
   "codemirror_mode": {
    "name": "ipython",
    "version": 3
   },
   "file_extension": ".py",
   "mimetype": "text/x-python",
   "name": "python",
   "nbconvert_exporter": "python",
   "pygments_lexer": "ipython3",
   "version": "3.9.18"
  }
 },
 "nbformat": 4,
 "nbformat_minor": 4
}
